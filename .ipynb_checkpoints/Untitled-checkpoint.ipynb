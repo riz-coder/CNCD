{
 "cells": [
  {
   "cell_type": "code",
   "execution_count": 29,
   "id": "8bcc540f",
   "metadata": {},
   "outputs": [
    {
     "data": {
      "application/javascript": [
       "\n",
       "        if (window._pyforest_update_imports_cell) { window._pyforest_update_imports_cell('import pandas as pd'); }\n",
       "    "
      ],
      "text/plain": [
       "<IPython.core.display.Javascript object>"
      ]
     },
     "metadata": {},
     "output_type": "display_data"
    },
    {
     "data": {
      "application/javascript": [
       "\n",
       "        if (window._pyforest_update_imports_cell) { window._pyforest_update_imports_cell('import pandas as pd'); }\n",
       "    "
      ],
      "text/plain": [
       "<IPython.core.display.Javascript object>"
      ]
     },
     "metadata": {},
     "output_type": "display_data"
    },
    {
     "data": {
      "application/javascript": [
       "\n",
       "        if (window._pyforest_update_imports_cell) { window._pyforest_update_imports_cell('import pandas as pd'); }\n",
       "    "
      ],
      "text/plain": [
       "<IPython.core.display.Javascript object>"
      ]
     },
     "metadata": {},
     "output_type": "display_data"
    },
    {
     "data": {
      "application/javascript": [
       "\n",
       "        if (window._pyforest_update_imports_cell) { window._pyforest_update_imports_cell('import pandas as pd'); }\n",
       "    "
      ],
      "text/plain": [
       "<IPython.core.display.Javascript object>"
      ]
     },
     "metadata": {},
     "output_type": "display_data"
    },
    {
     "data": {
      "application/javascript": [
       "\n",
       "        if (window._pyforest_update_imports_cell) { window._pyforest_update_imports_cell('import pandas as pd'); }\n",
       "    "
      ],
      "text/plain": [
       "<IPython.core.display.Javascript object>"
      ]
     },
     "metadata": {},
     "output_type": "display_data"
    },
    {
     "data": {
      "application/javascript": [
       "\n",
       "        if (window._pyforest_update_imports_cell) { window._pyforest_update_imports_cell('import pandas as pd'); }\n",
       "    "
      ],
      "text/plain": [
       "<IPython.core.display.Javascript object>"
      ]
     },
     "metadata": {},
     "output_type": "display_data"
    },
    {
     "data": {
      "application/javascript": [
       "\n",
       "        if (window._pyforest_update_imports_cell) { window._pyforest_update_imports_cell('import pandas as pd'); }\n",
       "    "
      ],
      "text/plain": [
       "<IPython.core.display.Javascript object>"
      ]
     },
     "metadata": {},
     "output_type": "display_data"
    },
    {
     "data": {
      "application/javascript": [
       "\n",
       "        if (window._pyforest_update_imports_cell) { window._pyforest_update_imports_cell('import pandas as pd'); }\n",
       "    "
      ],
      "text/plain": [
       "<IPython.core.display.Javascript object>"
      ]
     },
     "metadata": {},
     "output_type": "display_data"
    },
    {
     "data": {
      "application/javascript": [
       "\n",
       "        if (window._pyforest_update_imports_cell) { window._pyforest_update_imports_cell('import pandas as pd'); }\n",
       "    "
      ],
      "text/plain": [
       "<IPython.core.display.Javascript object>"
      ]
     },
     "metadata": {},
     "output_type": "display_data"
    }
   ],
   "source": [
    "import re\n",
    "import datetime\n",
    "f = open(\"sysmexdata24.log\", \"r\")\n",
    "File_Content= re.sub('[^a-zA-Z0-9 %|\\n\\.]', '', f.read())\n",
    "All_Rows=[]\n",
    "Row_Count=0\n",
    "Line_Count=0\n",
    "Each_Row_Data={}\n",
    "Total_Lines=len(File_Content.split('\\n'))\n",
    "for each_line in File_Content.split('\\n'):\n",
    "    #Count every line so we can append the last filtered row into the list of dictionaries\n",
    "    Line_Count=Line_Count+1\n",
    "    #Get study id (Starts with 4O)\n",
    "    if each_line.startswith(\"4O\"):\n",
    "        #Split lines with pipe & get index 3\n",
    "        each_line_list=each_line.split('|')\n",
    "        #For first study dont append to list of dictionaries\n",
    "        if Row_Count != 0:\n",
    "            All_Rows.append(Each_Row_Data)\n",
    "        #Counting each study\n",
    "        Row_Count=Row_Count+1\n",
    "        #Creating new dictionary for each study id\n",
    "        Each_Row_Data={}\n",
    "        #Setting study id for the dictionary\n",
    "        Each_Row_Data['study_id']=each_line_list[3].strip()[:-1]\n",
    "    else:\n",
    "        #Getting data from other valid lines\n",
    "        each_line_list=each_line.split('|')\n",
    "        if len(each_line_list) > 5:\n",
    "            #Remove 1 from the text if not numbers(To avoid removing 1 from date)\n",
    "            if not each_line_list[2].isdecimal():\n",
    "                each_line_list[2]=each_line_list[2].replace('1','')\n",
    "            #If its only integers then its date\n",
    "            if each_line_list[len(each_line_list)-1].strip().isdecimal():\n",
    "\n",
    "                Each_Row_Data['Date']=datetime.datetime.strptime(each_line_list[len(each_line_list)-1].strip(), '%Y%m%d%H%M%S').strftime('%Y%m%d')\n",
    "\n",
    "            #Saving all the data of each study into a dictionary with the name as key\n",
    "            Each_Row_Data[each_line_list[2]]=each_line_list[3]\n",
    "\n",
    "    if Line_Count == Total_Lines:\n",
    "        All_Rows.append(Each_Row_Data)\n",
    "\n",
    "for Each_Study in All_Rows:\n",
    "    #Write into CSV Here\n",
    "    df = pd.DataFrame(All_Rows, index=[1,2,3,4,5,6,7,8,9])"
   ]
  },
  {
   "cell_type": "code",
   "execution_count": 40,
   "id": "7a4db63e",
   "metadata": {},
   "outputs": [],
   "source": [
    "#Saved the Dataframe in CSV File\n",
    "#df.to_csv('Logs.csv')"
   ]
  },
  {
   "cell_type": "markdown",
   "id": "a56e7d57",
   "metadata": {},
   "source": [
    "- ***Now there are two ways, First is go to Saved CSV files and remove the un-necessary features.***\n",
    "- ***Second one is stay in Jupyter Environment and remove the Columns and perfrom the EDA and we follow the second approach.***"
   ]
  },
  {
   "cell_type": "code",
   "execution_count": null,
   "id": "91edcfc7",
   "metadata": {},
   "outputs": [],
   "source": []
  }
 ],
 "metadata": {
  "kernelspec": {
   "display_name": "Python 3",
   "language": "python",
   "name": "python3"
  },
  "language_info": {
   "codemirror_mode": {
    "name": "ipython",
    "version": 3
   },
   "file_extension": ".py",
   "mimetype": "text/x-python",
   "name": "python",
   "nbconvert_exporter": "python",
   "pygments_lexer": "ipython3",
   "version": "3.8.8"
  }
 },
 "nbformat": 4,
 "nbformat_minor": 5
}
