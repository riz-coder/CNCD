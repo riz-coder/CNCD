{
 "cells": [
  {
   "cell_type": "markdown",
   "id": "c9c4563d",
   "metadata": {},
   "source": [
    "# CNCD INTERVIEW TASKS\n",
    "\n",
    "### Task-1\n",
    "\n",
    "- ***Read the “student.csv” and convert the data into multiple sheet with their class wise sheet name.***"
   ]
  },
  {
   "cell_type": "code",
   "execution_count": 2,
   "id": "885a18ac",
   "metadata": {},
   "outputs": [
    {
     "name": "stdout",
     "output_type": "stream",
     "text": [
      "Requirement already satisfied: pyForest in c:\\programdata\\anaconda3\\lib\\site-packages (1.1.0)\n"
     ]
    }
   ],
   "source": [
    "#To avoid the import libs again and again just install Pyforest and Imports.\n",
    "!pip install pyForest"
   ]
  },
  {
   "cell_type": "code",
   "execution_count": 3,
   "id": "7e864c8b",
   "metadata": {},
   "outputs": [],
   "source": [
    "#Importing the Pyforest (It's for Lazy Programmers like me:)\n",
    "import pyforest"
   ]
  },
  {
   "cell_type": "code",
   "execution_count": 4,
   "id": "2814c078",
   "metadata": {},
   "outputs": [
    {
     "data": {
      "application/javascript": [
       "\n",
       "        if (window._pyforest_update_imports_cell) { window._pyforest_update_imports_cell('import pandas as pd'); }\n",
       "    "
      ],
      "text/plain": [
       "<IPython.core.display.Javascript object>"
      ]
     },
     "metadata": {},
     "output_type": "display_data"
    }
   ],
   "source": [
    "#Read the CSV file\n",
    "df = pd.read_csv('student.csv')"
   ]
  },
  {
   "cell_type": "code",
   "execution_count": 5,
   "id": "46a5cf4e",
   "metadata": {},
   "outputs": [
    {
     "data": {
      "text/html": [
       "<div>\n",
       "<style scoped>\n",
       "    .dataframe tbody tr th:only-of-type {\n",
       "        vertical-align: middle;\n",
       "    }\n",
       "\n",
       "    .dataframe tbody tr th {\n",
       "        vertical-align: top;\n",
       "    }\n",
       "\n",
       "    .dataframe thead th {\n",
       "        text-align: right;\n",
       "    }\n",
       "</style>\n",
       "<table border=\"1\" class=\"dataframe\">\n",
       "  <thead>\n",
       "    <tr style=\"text-align: right;\">\n",
       "      <th></th>\n",
       "      <th>Name</th>\n",
       "      <th>Class</th>\n",
       "    </tr>\n",
       "  </thead>\n",
       "  <tbody>\n",
       "    <tr>\n",
       "      <th>0</th>\n",
       "      <td>Maaz</td>\n",
       "      <td>4_Standard</td>\n",
       "    </tr>\n",
       "    <tr>\n",
       "      <th>1</th>\n",
       "      <td>Shahzaib</td>\n",
       "      <td>6_Standard</td>\n",
       "    </tr>\n",
       "    <tr>\n",
       "      <th>2</th>\n",
       "      <td>A. Baseer</td>\n",
       "      <td>1_Standard</td>\n",
       "    </tr>\n",
       "    <tr>\n",
       "      <th>3</th>\n",
       "      <td>M.Hussain</td>\n",
       "      <td>5_Standard</td>\n",
       "    </tr>\n",
       "    <tr>\n",
       "      <th>4</th>\n",
       "      <td>Ghufran</td>\n",
       "      <td>4_Standard</td>\n",
       "    </tr>\n",
       "  </tbody>\n",
       "</table>\n",
       "</div>"
      ],
      "text/plain": [
       "        Name       Class\n",
       "0       Maaz  4_Standard\n",
       "1   Shahzaib  6_Standard\n",
       "2  A. Baseer  1_Standard\n",
       "3  M.Hussain  5_Standard\n",
       "4    Ghufran  4_Standard"
      ]
     },
     "execution_count": 5,
     "metadata": {},
     "output_type": "execute_result"
    }
   ],
   "source": [
    "df.head()"
   ]
  },
  {
   "cell_type": "code",
   "execution_count": 6,
   "id": "d15ede91",
   "metadata": {},
   "outputs": [
    {
     "data": {
      "text/plain": [
       "(42, 2)"
      ]
     },
     "execution_count": 6,
     "metadata": {},
     "output_type": "execute_result"
    }
   ],
   "source": [
    "#Check the shape of file\n",
    "df.shape"
   ]
  },
  {
   "cell_type": "markdown",
   "id": "a5e7b1b7",
   "metadata": {},
   "source": [
    "> **So our file contains only 2 Coulmns with 42 Records**"
   ]
  },
  {
   "cell_type": "code",
   "execution_count": 7,
   "id": "75cad972",
   "metadata": {},
   "outputs": [
    {
     "data": {
      "text/plain": [
       "0"
      ]
     },
     "execution_count": 7,
     "metadata": {},
     "output_type": "execute_result"
    }
   ],
   "source": [
    "#Checking some missing values as it's really small number so we just check the overall missing values of dataset\n",
    "df.isnull().sum().sum()"
   ]
  },
  {
   "cell_type": "markdown",
   "id": "9d418382",
   "metadata": {},
   "source": [
    "- Now let's filter them out wrt Standards but let's check the unique value of Class column that's how many unique values which needs to filtered and save in separate sheets of one excel file."
   ]
  },
  {
   "cell_type": "code",
   "execution_count": 8,
   "id": "3e8e54aa",
   "metadata": {},
   "outputs": [
    {
     "data": {
      "text/plain": [
       "9"
      ]
     },
     "execution_count": 8,
     "metadata": {},
     "output_type": "execute_result"
    }
   ],
   "source": [
    "#Check the unique values number\n",
    "df.Class.nunique()"
   ]
  },
  {
   "cell_type": "markdown",
   "id": "dee327bb",
   "metadata": {},
   "source": [
    "- So we have 9 unique entries in our 'Class' Feature, Now let's check what they are:"
   ]
  },
  {
   "cell_type": "code",
   "execution_count": 9,
   "id": "7cc2488e",
   "metadata": {},
   "outputs": [
    {
     "data": {
      "text/plain": [
       "array(['4_Standard', '6_Standard', '1_Standard', '5_Standard',\n",
       "       '2_Standard', '7_Standard', '3_Standard', '9_Standard',\n",
       "       '8_Standard'], dtype=object)"
      ]
     },
     "execution_count": 9,
     "metadata": {},
     "output_type": "execute_result"
    }
   ],
   "source": [
    "#Check the Unique Value Entries\n",
    "df.Class.unique()"
   ]
  },
  {
   "cell_type": "code",
   "execution_count": 10,
   "id": "19411ec1",
   "metadata": {},
   "outputs": [],
   "source": [
    "#Let's do some filtering and then save into one Excel file with Different sheets name\n",
    "df1 = df[(df.Class==\"1_Standard\")]\n",
    "df2 = df[(df.Class==\"2_Standard\")]\n",
    "df3 = df[(df.Class==\"3_Standard\")]\n",
    "df4 = df[(df.Class==\"4_Standard\")]\n",
    "df5 = df[(df.Class==\"5_Standard\")]\n",
    "df6 = df[(df.Class==\"6_Standard\")]\n",
    "df7 = df[(df.Class==\"7_Standard\")]\n",
    "df8 = df[(df.Class==\"8_Standard\")]\n",
    "df9 = df[(df.Class==\"9_Standard\")]"
   ]
  },
  {
   "cell_type": "code",
   "execution_count": 11,
   "id": "1eff1984",
   "metadata": {},
   "outputs": [
    {
     "data": {
      "text/html": [
       "<div>\n",
       "<style scoped>\n",
       "    .dataframe tbody tr th:only-of-type {\n",
       "        vertical-align: middle;\n",
       "    }\n",
       "\n",
       "    .dataframe tbody tr th {\n",
       "        vertical-align: top;\n",
       "    }\n",
       "\n",
       "    .dataframe thead th {\n",
       "        text-align: right;\n",
       "    }\n",
       "</style>\n",
       "<table border=\"1\" class=\"dataframe\">\n",
       "  <thead>\n",
       "    <tr style=\"text-align: right;\">\n",
       "      <th></th>\n",
       "      <th>Name</th>\n",
       "      <th>Class</th>\n",
       "    </tr>\n",
       "  </thead>\n",
       "  <tbody>\n",
       "    <tr>\n",
       "      <th>5</th>\n",
       "      <td>Hammad</td>\n",
       "      <td>2_Standard</td>\n",
       "    </tr>\n",
       "    <tr>\n",
       "      <th>18</th>\n",
       "      <td>Sanaullah</td>\n",
       "      <td>2_Standard</td>\n",
       "    </tr>\n",
       "    <tr>\n",
       "      <th>19</th>\n",
       "      <td>Hussain</td>\n",
       "      <td>2_Standard</td>\n",
       "    </tr>\n",
       "    <tr>\n",
       "      <th>22</th>\n",
       "      <td>Shahzaib</td>\n",
       "      <td>2_Standard</td>\n",
       "    </tr>\n",
       "    <tr>\n",
       "      <th>26</th>\n",
       "      <td>Hammad</td>\n",
       "      <td>2_Standard</td>\n",
       "    </tr>\n",
       "    <tr>\n",
       "      <th>33</th>\n",
       "      <td>Hammad</td>\n",
       "      <td>2_Standard</td>\n",
       "    </tr>\n",
       "  </tbody>\n",
       "</table>\n",
       "</div>"
      ],
      "text/plain": [
       "         Name       Class\n",
       "5      Hammad  2_Standard\n",
       "18  Sanaullah  2_Standard\n",
       "19    Hussain  2_Standard\n",
       "22   Shahzaib  2_Standard\n",
       "26     Hammad  2_Standard\n",
       "33    Hammad   2_Standard"
      ]
     },
     "execution_count": 11,
     "metadata": {},
     "output_type": "execute_result"
    }
   ],
   "source": [
    "#Let's check if it's filtered correctly\n",
    "df2"
   ]
  },
  {
   "cell_type": "code",
   "execution_count": 12,
   "id": "f6e4eb56",
   "metadata": {},
   "outputs": [
    {
     "data": {
      "application/javascript": [
       "\n",
       "        if (window._pyforest_update_imports_cell) { window._pyforest_update_imports_cell('import pandas as pd'); }\n",
       "    "
      ],
      "text/plain": [
       "<IPython.core.display.Javascript object>"
      ]
     },
     "metadata": {},
     "output_type": "display_data"
    }
   ],
   "source": [
    "#Create the Excel File \n",
    "with pd.ExcelWriter(\"F:\\\\final_sheet.xlsx\") as writer:\n",
    "    df1.to_excel(writer, sheet_name='1_Stand', index=False)\n",
    "    df2.to_excel(writer, sheet_name='2_Stand', index=False)\n",
    "    df3.to_excel(writer, sheet_name='3_Stand', index=False)\n",
    "    df4.to_excel(writer, sheet_name='4_Stand', index=False)\n",
    "    df5.to_excel(writer, sheet_name='5_Stand', index=False)\n",
    "    df6.to_excel(writer, sheet_name='6_Stand', index=False)\n",
    "    df7.to_excel(writer, sheet_name='7_Stand', index=False)\n",
    "    df8.to_excel(writer, sheet_name='8_Stand', index=False)\n",
    "    df9.to_excel(writer, sheet_name='9_Stand', index=False)"
   ]
  },
  {
   "cell_type": "markdown",
   "id": "da273723",
   "metadata": {},
   "source": [
    "- In this i have created the Excel file having name 'final_sheet' with 9 different sheets are present in one file wrt Standards."
   ]
  },
  {
   "cell_type": "markdown",
   "id": "cac9c3ba",
   "metadata": {},
   "source": [
    "### Task-2\n",
    "\n",
    "- Convert the “Log file into CSV”\n",
    "- Read the “sysmexdata24.log” Given: \n",
    "    - Step 1: Convert Log file into CSV. \n",
    "    - Step 2: Show Basic Statistics of the Data.\n",
    "    - Step 3: Create Bar Graph, Clusters to find the outliers of the data. You can create other graphs as well.\n",
    "    - Step 4: Explain all the steps.\n"
   ]
  },
  {
   "cell_type": "code",
   "execution_count": null,
   "id": "78771b7f",
   "metadata": {},
   "outputs": [],
   "source": [
    "\n"
   ]
  }
 ],
 "metadata": {
  "kernelspec": {
   "display_name": "Python 3",
   "language": "python",
   "name": "python3"
  },
  "language_info": {
   "codemirror_mode": {
    "name": "ipython",
    "version": 3
   },
   "file_extension": ".py",
   "mimetype": "text/x-python",
   "name": "python",
   "nbconvert_exporter": "python",
   "pygments_lexer": "ipython3",
   "version": "3.8.8"
  },
  "vscode": {
   "interpreter": {
    "hash": "ad2bdc8ecc057115af97d19610ffacc2b4e99fae6737bb82f5d7fb13d2f2c186"
   }
  }
 },
 "nbformat": 4,
 "nbformat_minor": 5
}
