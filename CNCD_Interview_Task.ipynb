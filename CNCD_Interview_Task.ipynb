{
 "cells": [
  {
   "cell_type": "markdown",
   "id": "c9c4563d",
   "metadata": {},
   "source": [
    "# CNCD INTERVIEW TASKS\n",
    "\n",
    "### Task-1\n",
    "\n",
    "- ***Read the “student.csv” and convert the data into multiple sheet with their class wise sheet name.***"
   ]
  },
  {
   "cell_type": "code",
   "execution_count": 657,
   "id": "885a18ac",
   "metadata": {},
   "outputs": [
    {
     "name": "stdout",
     "output_type": "stream",
     "text": [
      "Requirement already satisfied: pyForest in c:\\programdata\\anaconda3\\lib\\site-packages (1.1.0)\n"
     ]
    }
   ],
   "source": [
    "#To avoid the import libs again and again just install Pyforest and Imports.\n",
    "!pip install pyForest"
   ]
  },
  {
   "cell_type": "code",
   "execution_count": 658,
   "id": "7e864c8b",
   "metadata": {},
   "outputs": [],
   "source": [
    "#Importing the Pyforest (It's for Lazy Programmers like me:)\n",
    "import pyforest"
   ]
  },
  {
   "cell_type": "code",
   "execution_count": 659,
   "id": "2814c078",
   "metadata": {},
   "outputs": [
    {
     "data": {
      "application/javascript": "\n        if (window._pyforest_update_imports_cell) { window._pyforest_update_imports_cell('import matplotlib.pyplot as plt\\nimport pandas as pd\\nimport numpy as np'); }\n    ",
      "text/plain": [
       "<IPython.core.display.Javascript object>"
      ]
     },
     "metadata": {},
     "output_type": "display_data"
    }
   ],
   "source": [
    "#Read the CSV file\n",
    "df = pd.read_csv('student.csv')"
   ]
  },
  {
   "cell_type": "code",
   "execution_count": 660,
   "id": "46a5cf4e",
   "metadata": {},
   "outputs": [
    {
     "data": {
      "text/html": [
       "<div>\n",
       "<style scoped>\n",
       "    .dataframe tbody tr th:only-of-type {\n",
       "        vertical-align: middle;\n",
       "    }\n",
       "\n",
       "    .dataframe tbody tr th {\n",
       "        vertical-align: top;\n",
       "    }\n",
       "\n",
       "    .dataframe thead th {\n",
       "        text-align: right;\n",
       "    }\n",
       "</style>\n",
       "<table border=\"1\" class=\"dataframe\">\n",
       "  <thead>\n",
       "    <tr style=\"text-align: right;\">\n",
       "      <th></th>\n",
       "      <th>Name</th>\n",
       "      <th>Class</th>\n",
       "    </tr>\n",
       "  </thead>\n",
       "  <tbody>\n",
       "    <tr>\n",
       "      <th>0</th>\n",
       "      <td>Maaz</td>\n",
       "      <td>4_Standard</td>\n",
       "    </tr>\n",
       "    <tr>\n",
       "      <th>1</th>\n",
       "      <td>Shahzaib</td>\n",
       "      <td>6_Standard</td>\n",
       "    </tr>\n",
       "    <tr>\n",
       "      <th>2</th>\n",
       "      <td>A. Baseer</td>\n",
       "      <td>1_Standard</td>\n",
       "    </tr>\n",
       "    <tr>\n",
       "      <th>3</th>\n",
       "      <td>M.Hussain</td>\n",
       "      <td>5_Standard</td>\n",
       "    </tr>\n",
       "    <tr>\n",
       "      <th>4</th>\n",
       "      <td>Ghufran</td>\n",
       "      <td>4_Standard</td>\n",
       "    </tr>\n",
       "  </tbody>\n",
       "</table>\n",
       "</div>"
      ],
      "text/plain": [
       "        Name       Class\n",
       "0       Maaz  4_Standard\n",
       "1   Shahzaib  6_Standard\n",
       "2  A. Baseer  1_Standard\n",
       "3  M.Hussain  5_Standard\n",
       "4    Ghufran  4_Standard"
      ]
     },
     "execution_count": 660,
     "metadata": {},
     "output_type": "execute_result"
    }
   ],
   "source": [
    "df.head()"
   ]
  },
  {
   "cell_type": "code",
   "execution_count": 661,
   "id": "d15ede91",
   "metadata": {},
   "outputs": [
    {
     "data": {
      "text/plain": [
       "(42, 2)"
      ]
     },
     "execution_count": 661,
     "metadata": {},
     "output_type": "execute_result"
    }
   ],
   "source": [
    "#Check the shape of file\n",
    "df.shape"
   ]
  },
  {
   "cell_type": "markdown",
   "id": "a5e7b1b7",
   "metadata": {},
   "source": [
    "> **So our file contains only 2 Coulmns with 42 Records**"
   ]
  },
  {
   "cell_type": "code",
   "execution_count": 662,
   "id": "75cad972",
   "metadata": {},
   "outputs": [
    {
     "data": {
      "text/plain": [
       "0"
      ]
     },
     "execution_count": 662,
     "metadata": {},
     "output_type": "execute_result"
    }
   ],
   "source": [
    "#Checking some missing values as it's really small number so we just check the overall missing values of dataset\n",
    "df.isnull().sum().sum()"
   ]
  },
  {
   "cell_type": "markdown",
   "id": "9d418382",
   "metadata": {},
   "source": [
    "- Now let's filter them out wrt Standards but let's check the unique value of Class column that's how many unique values which needs to filtered and save in separate sheets of one excel file."
   ]
  },
  {
   "cell_type": "code",
   "execution_count": 663,
   "id": "3e8e54aa",
   "metadata": {},
   "outputs": [
    {
     "data": {
      "text/plain": [
       "9"
      ]
     },
     "execution_count": 663,
     "metadata": {},
     "output_type": "execute_result"
    }
   ],
   "source": [
    "#Check the unique values number\n",
    "df.Class.nunique()"
   ]
  },
  {
   "cell_type": "markdown",
   "id": "dee327bb",
   "metadata": {},
   "source": [
    "- So we have 9 unique entries in our 'Class' Feature, Now let's check what they are:"
   ]
  },
  {
   "cell_type": "code",
   "execution_count": 664,
   "id": "7cc2488e",
   "metadata": {},
   "outputs": [
    {
     "data": {
      "text/plain": [
       "array(['4_Standard', '6_Standard', '1_Standard', '5_Standard',\n",
       "       '2_Standard', '7_Standard', '3_Standard', '9_Standard',\n",
       "       '8_Standard'], dtype=object)"
      ]
     },
     "execution_count": 664,
     "metadata": {},
     "output_type": "execute_result"
    }
   ],
   "source": [
    "#Check the Unique Value Entries\n",
    "df.Class.unique()"
   ]
  },
  {
   "cell_type": "code",
   "execution_count": 665,
   "id": "19411ec1",
   "metadata": {},
   "outputs": [],
   "source": [
    "#Let's do some filtering and then save into one Excel file with Different sheets name\n",
    "df1 = df[(df.Class==\"1_Standard\")]\n",
    "df2 = df[(df.Class==\"2_Standard\")]\n",
    "df3 = df[(df.Class==\"3_Standard\")]\n",
    "df4 = df[(df.Class==\"4_Standard\")]\n",
    "df5 = df[(df.Class==\"5_Standard\")]\n",
    "df6 = df[(df.Class==\"6_Standard\")]\n",
    "df7 = df[(df.Class==\"7_Standard\")]\n",
    "df8 = df[(df.Class==\"8_Standard\")]\n",
    "df9 = df[(df.Class==\"9_Standard\")]"
   ]
  },
  {
   "cell_type": "code",
   "execution_count": 666,
   "id": "1eff1984",
   "metadata": {},
   "outputs": [
    {
     "data": {
      "text/html": [
       "<div>\n",
       "<style scoped>\n",
       "    .dataframe tbody tr th:only-of-type {\n",
       "        vertical-align: middle;\n",
       "    }\n",
       "\n",
       "    .dataframe tbody tr th {\n",
       "        vertical-align: top;\n",
       "    }\n",
       "\n",
       "    .dataframe thead th {\n",
       "        text-align: right;\n",
       "    }\n",
       "</style>\n",
       "<table border=\"1\" class=\"dataframe\">\n",
       "  <thead>\n",
       "    <tr style=\"text-align: right;\">\n",
       "      <th></th>\n",
       "      <th>Name</th>\n",
       "      <th>Class</th>\n",
       "    </tr>\n",
       "  </thead>\n",
       "  <tbody>\n",
       "    <tr>\n",
       "      <th>5</th>\n",
       "      <td>Hammad</td>\n",
       "      <td>2_Standard</td>\n",
       "    </tr>\n",
       "    <tr>\n",
       "      <th>18</th>\n",
       "      <td>Sanaullah</td>\n",
       "      <td>2_Standard</td>\n",
       "    </tr>\n",
       "    <tr>\n",
       "      <th>19</th>\n",
       "      <td>Hussain</td>\n",
       "      <td>2_Standard</td>\n",
       "    </tr>\n",
       "    <tr>\n",
       "      <th>22</th>\n",
       "      <td>Shahzaib</td>\n",
       "      <td>2_Standard</td>\n",
       "    </tr>\n",
       "    <tr>\n",
       "      <th>26</th>\n",
       "      <td>Hammad</td>\n",
       "      <td>2_Standard</td>\n",
       "    </tr>\n",
       "    <tr>\n",
       "      <th>33</th>\n",
       "      <td>Hammad</td>\n",
       "      <td>2_Standard</td>\n",
       "    </tr>\n",
       "  </tbody>\n",
       "</table>\n",
       "</div>"
      ],
      "text/plain": [
       "         Name       Class\n",
       "5      Hammad  2_Standard\n",
       "18  Sanaullah  2_Standard\n",
       "19    Hussain  2_Standard\n",
       "22   Shahzaib  2_Standard\n",
       "26     Hammad  2_Standard\n",
       "33    Hammad   2_Standard"
      ]
     },
     "execution_count": 666,
     "metadata": {},
     "output_type": "execute_result"
    }
   ],
   "source": [
    "#Let's check if it's filtered correctly\n",
    "df2"
   ]
  },
  {
   "cell_type": "code",
   "execution_count": 667,
   "id": "f6e4eb56",
   "metadata": {},
   "outputs": [
    {
     "data": {
      "application/javascript": "\n        if (window._pyforest_update_imports_cell) { window._pyforest_update_imports_cell('import matplotlib.pyplot as plt\\nimport pandas as pd\\nimport numpy as np'); }\n    ",
      "text/plain": [
       "<IPython.core.display.Javascript object>"
      ]
     },
     "metadata": {},
     "output_type": "display_data"
    }
   ],
   "source": [
    "#Create the Excel File \n",
    "with pd.ExcelWriter(\"F:\\\\final_sheet.xlsx\") as writer:\n",
    "    df1.to_excel(writer, sheet_name='1_Stand', index=False)\n",
    "    df2.to_excel(writer, sheet_name='2_Stand', index=False)\n",
    "    df3.to_excel(writer, sheet_name='3_Stand', index=False)\n",
    "    df4.to_excel(writer, sheet_name='4_Stand', index=False)\n",
    "    df5.to_excel(writer, sheet_name='5_Stand', index=False)\n",
    "    df6.to_excel(writer, sheet_name='6_Stand', index=False)\n",
    "    df7.to_excel(writer, sheet_name='7_Stand', index=False)\n",
    "    df8.to_excel(writer, sheet_name='8_Stand', index=False)\n",
    "    df9.to_excel(writer, sheet_name='9_Stand', index=False)"
   ]
  },
  {
   "cell_type": "markdown",
   "id": "da273723",
   "metadata": {},
   "source": [
    "- In this i have created the Excel file having name 'final_sheet' with 9 different sheets are present in one file wrt Standards."
   ]
  },
  {
   "cell_type": "markdown",
   "id": "cac9c3ba",
   "metadata": {},
   "source": [
    "### Task-2\n",
    "\n",
    "- Convert the “Log file into CSV”\n",
    "- Read the “sysmexdata24.log” Given: \n",
    "    - Step 1: Convert Log file into CSV. \n",
    "    - Step 2: Show Basic Statistics of the Data.\n",
    "    - Step 3: Create Bar Graph, Clusters to find the outliers of the data. You can create other graphs as well.\n",
    "    - Step 4: Explain all the steps.\n"
   ]
  },
  {
   "cell_type": "markdown",
   "id": "78771b7f",
   "metadata": {},
   "source": [
    "## Step-1: Covert Log File Into CSV\n"
   ]
  },
  {
   "cell_type": "code",
   "execution_count": 668,
   "id": "a1655782",
   "metadata": {},
   "outputs": [
    {
     "data": {
      "application/javascript": "\n        if (window._pyforest_update_imports_cell) { window._pyforest_update_imports_cell('import matplotlib.pyplot as plt\\nimport pandas as pd\\nimport numpy as np'); }\n    ",
      "text/plain": [
       "<IPython.core.display.Javascript object>"
      ]
     },
     "metadata": {},
     "output_type": "display_data"
    },
    {
     "data": {
      "application/javascript": "\n        if (window._pyforest_update_imports_cell) { window._pyforest_update_imports_cell('import matplotlib.pyplot as plt\\nimport pandas as pd\\nimport numpy as np'); }\n    ",
      "text/plain": [
       "<IPython.core.display.Javascript object>"
      ]
     },
     "metadata": {},
     "output_type": "display_data"
    },
    {
     "data": {
      "application/javascript": "\n        if (window._pyforest_update_imports_cell) { window._pyforest_update_imports_cell('import matplotlib.pyplot as plt\\nimport pandas as pd\\nimport numpy as np'); }\n    ",
      "text/plain": [
       "<IPython.core.display.Javascript object>"
      ]
     },
     "metadata": {},
     "output_type": "display_data"
    },
    {
     "data": {
      "application/javascript": "\n        if (window._pyforest_update_imports_cell) { window._pyforest_update_imports_cell('import matplotlib.pyplot as plt\\nimport pandas as pd\\nimport numpy as np'); }\n    ",
      "text/plain": [
       "<IPython.core.display.Javascript object>"
      ]
     },
     "metadata": {},
     "output_type": "display_data"
    },
    {
     "data": {
      "application/javascript": "\n        if (window._pyforest_update_imports_cell) { window._pyforest_update_imports_cell('import matplotlib.pyplot as plt\\nimport pandas as pd\\nimport numpy as np'); }\n    ",
      "text/plain": [
       "<IPython.core.display.Javascript object>"
      ]
     },
     "metadata": {},
     "output_type": "display_data"
    },
    {
     "data": {
      "application/javascript": "\n        if (window._pyforest_update_imports_cell) { window._pyforest_update_imports_cell('import matplotlib.pyplot as plt\\nimport pandas as pd\\nimport numpy as np'); }\n    ",
      "text/plain": [
       "<IPython.core.display.Javascript object>"
      ]
     },
     "metadata": {},
     "output_type": "display_data"
    },
    {
     "data": {
      "application/javascript": "\n        if (window._pyforest_update_imports_cell) { window._pyforest_update_imports_cell('import matplotlib.pyplot as plt\\nimport pandas as pd\\nimport numpy as np'); }\n    ",
      "text/plain": [
       "<IPython.core.display.Javascript object>"
      ]
     },
     "metadata": {},
     "output_type": "display_data"
    },
    {
     "data": {
      "application/javascript": "\n        if (window._pyforest_update_imports_cell) { window._pyforest_update_imports_cell('import matplotlib.pyplot as plt\\nimport pandas as pd\\nimport numpy as np'); }\n    ",
      "text/plain": [
       "<IPython.core.display.Javascript object>"
      ]
     },
     "metadata": {},
     "output_type": "display_data"
    },
    {
     "data": {
      "application/javascript": "\n        if (window._pyforest_update_imports_cell) { window._pyforest_update_imports_cell('import matplotlib.pyplot as plt\\nimport pandas as pd\\nimport numpy as np'); }\n    ",
      "text/plain": [
       "<IPython.core.display.Javascript object>"
      ]
     },
     "metadata": {},
     "output_type": "display_data"
    }
   ],
   "source": [
    "import re\n",
    "import datetime\n",
    "f = open(\"sysmexdata24.log\", \"r\")\n",
    "File_Content= re.sub('[^a-zA-Z0-9 %|\\n\\.]', '', f.read())\n",
    "All_Rows=[]\n",
    "Row_Count=0\n",
    "Line_Count=0\n",
    "Each_Row_Data={}\n",
    "Total_Lines=len(File_Content.split('\\n'))\n",
    "for each_line in File_Content.split('\\n'):\n",
    "    #Count every line so we can append the last filtered row into the list of dictionaries\n",
    "    Line_Count=Line_Count+1\n",
    "    #Get study id (Starts with 4O)\n",
    "    if each_line.startswith(\"4O\"):\n",
    "        #Split lines with pipe & get index 3\n",
    "        each_line_list=each_line.split('|')\n",
    "        #For first study dont append to list of dictionaries\n",
    "        if Row_Count != 0:\n",
    "            All_Rows.append(Each_Row_Data)\n",
    "        #Counting each study\n",
    "        Row_Count=Row_Count+1\n",
    "        #Creating new dictionary for each study id\n",
    "        Each_Row_Data={}\n",
    "        #Setting study id for the dictionary\n",
    "        Each_Row_Data['study_id']=each_line_list[3].strip()[:-1]\n",
    "    else:\n",
    "        #Getting data from other valid lines\n",
    "        each_line_list=each_line.split('|')\n",
    "        if len(each_line_list) > 5:\n",
    "            #Remove 1 from the text if not numbers(To avoid removing 1 from date)\n",
    "            if not each_line_list[2].isdecimal():\n",
    "                each_line_list[2]=each_line_list[2].replace('1','')\n",
    "            #If its only integers then its date\n",
    "            if each_line_list[len(each_line_list)-1].strip().isdecimal():\n",
    "\n",
    "                Each_Row_Data['Date']=datetime.datetime.strptime(each_line_list[len(each_line_list)-1].strip(), '%Y%m%d%H%M%S').strftime('%Y%m%d')\n",
    "\n",
    "            #Saving all the data of each study into a dictionary with the name as key\n",
    "            Each_Row_Data[each_line_list[2]]=each_line_list[3]\n",
    "\n",
    "    if Line_Count == Total_Lines:\n",
    "        All_Rows.append(Each_Row_Data)\n",
    "\n",
    "for Each_Study in All_Rows:\n",
    "    #Write into CSV Here\n",
    "    df = pd.DataFrame(All_Rows, index=[1,2,3,4,5,6,7,8,9])"
   ]
  },
  {
   "cell_type": "code",
   "execution_count": 669,
   "id": "b9924ffc",
   "metadata": {},
   "outputs": [
    {
     "data": {
      "text/plain": [
       "(9, 60)"
      ]
     },
     "execution_count": 669,
     "metadata": {},
     "output_type": "execute_result"
    }
   ],
   "source": [
    "df.shape"
   ]
  },
  {
   "cell_type": "markdown",
   "id": "3349c52f",
   "metadata": {},
   "source": [
    "> Yes we got the desired Output what we want, Now let's do some preprocessing."
   ]
  },
  {
   "cell_type": "markdown",
   "id": "bc677211",
   "metadata": {},
   "source": [
    "## Step-2: Basic Stats "
   ]
  },
  {
   "cell_type": "code",
   "execution_count": 670,
   "id": "f9d92beb",
   "metadata": {},
   "outputs": [
    {
     "data": {
      "text/plain": [
       "(9, 60)"
      ]
     },
     "execution_count": 670,
     "metadata": {},
     "output_type": "execute_result"
    }
   ],
   "source": [
    "#First Let's check the shape of the file\n",
    "df.shape"
   ]
  },
  {
   "cell_type": "code",
   "execution_count": 671,
   "id": "8e479225",
   "metadata": {},
   "outputs": [
    {
     "data": {
      "text/plain": [
       "Index(['study_id', '', 'Date', 'WBC', 'RBC', 'HGB', 'HCT', 'MCV', 'MCH',\n",
       "       'MCHC', 'PLT', 'NEUT%', 'LYMPH%', 'MONO%', 'EO%', 'BASO%', 'NEUT',\n",
       "       'LYMPH', 'MONO', 'EO', 'BASO', 'IG%', 'IG', 'RDWSD', 'RDWCV', 'MICROR',\n",
       "       'MACROR', 'PDW', 'MPV', 'PLCR', 'PCT', 'WBCAbnScattergram',\n",
       "       'Neutropenia', 'Leukocytopenia', 'PLTAbnDistribution',\n",
       "       'BlastsAbnLympho', 'LeftShift', 'AtypicalLympho', 'NRBC',\n",
       "       'RBCAgglutination', 'TurbidityHGBInterference', 'IronDeficiency',\n",
       "       'HGBDefect', 'Fragments', 'IRBC', 'PLTClumps', 'PositiveDiff',\n",
       "       'PositiveMorph', 'PositiveCount', 'SCATWDF', 'SCATWDFCBC', 'DISTRBC',\n",
       "       'DISTPLT', 'Microcytosis', 'Hypochromia', 'RBCAbnDistribution',\n",
       "       'Anisocytosis', 'Anemia', 'ACTIONMESSAGEPLT', 'Lymphopenia'],\n",
       "      dtype='object')"
      ]
     },
     "execution_count": 671,
     "metadata": {},
     "output_type": "execute_result"
    }
   ],
   "source": [
    "#Let's Check the total columns\n",
    "df.columns"
   ]
  },
  {
   "cell_type": "markdown",
   "id": "722b47b9",
   "metadata": {},
   "source": [
    "> 60 Columns with 9 Records but as per our need we just need the selected columns which mentioned in the CSV file so Let's fetch just these one"
   ]
  },
  {
   "cell_type": "code",
   "execution_count": 672,
   "id": "e0c849df",
   "metadata": {},
   "outputs": [],
   "source": [
    "#Let's fetch our desired columns\n",
    "df1 = df.iloc[:,[0,1,2,3,4,5,6,7,8,9,10,23,24,27,28,29,30,11,12,13,14,15]]"
   ]
  },
  {
   "cell_type": "code",
   "execution_count": 673,
   "id": "782bab3e",
   "metadata": {},
   "outputs": [
    {
     "data": {
      "text/plain": [
       "Index(['study_id', '', 'Date', 'WBC', 'RBC', 'HGB', 'HCT', 'MCV', 'MCH',\n",
       "       'MCHC', 'PLT', 'RDWSD', 'RDWCV', 'PDW', 'MPV', 'PLCR', 'PCT', 'NEUT%',\n",
       "       'LYMPH%', 'MONO%', 'EO%', 'BASO%'],\n",
       "      dtype='object')"
      ]
     },
     "execution_count": 673,
     "metadata": {},
     "output_type": "execute_result"
    }
   ],
   "source": [
    "df1.columns"
   ]
  },
  {
   "cell_type": "code",
   "execution_count": 674,
   "id": "bd97c8b4",
   "metadata": {},
   "outputs": [
    {
     "data": {
      "text/html": [
       "<div>\n",
       "<style scoped>\n",
       "    .dataframe tbody tr th:only-of-type {\n",
       "        vertical-align: middle;\n",
       "    }\n",
       "\n",
       "    .dataframe tbody tr th {\n",
       "        vertical-align: top;\n",
       "    }\n",
       "\n",
       "    .dataframe thead th {\n",
       "        text-align: right;\n",
       "    }\n",
       "</style>\n",
       "<table border=\"1\" class=\"dataframe\">\n",
       "  <thead>\n",
       "    <tr style=\"text-align: right;\">\n",
       "      <th></th>\n",
       "      <th>study_id</th>\n",
       "      <th></th>\n",
       "      <th>Date</th>\n",
       "      <th>WBC</th>\n",
       "      <th>RBC</th>\n",
       "      <th>HGB</th>\n",
       "      <th>HCT</th>\n",
       "      <th>MCV</th>\n",
       "      <th>MCH</th>\n",
       "      <th>MCHC</th>\n",
       "      <th>...</th>\n",
       "      <th>RDWCV</th>\n",
       "      <th>PDW</th>\n",
       "      <th>MPV</th>\n",
       "      <th>PLCR</th>\n",
       "      <th>PCT</th>\n",
       "      <th>NEUT%</th>\n",
       "      <th>LYMPH%</th>\n",
       "      <th>MONO%</th>\n",
       "      <th>EO%</th>\n",
       "      <th>BASO%</th>\n",
       "    </tr>\n",
       "  </thead>\n",
       "  <tbody>\n",
       "    <tr>\n",
       "      <th>1</th>\n",
       "      <td>31DTS02</td>\n",
       "      <td></td>\n",
       "      <td>20220923</td>\n",
       "      <td>1.69</td>\n",
       "      <td>5.52</td>\n",
       "      <td>15.6</td>\n",
       "      <td>48.8</td>\n",
       "      <td>88.4</td>\n",
       "      <td>28.3</td>\n",
       "      <td>32.0</td>\n",
       "      <td>...</td>\n",
       "      <td>15.0</td>\n",
       "      <td>19.5</td>\n",
       "      <td>13.3</td>\n",
       "      <td>54.5</td>\n",
       "      <td>0.16</td>\n",
       "      <td>7.1</td>\n",
       "      <td>69.8</td>\n",
       "      <td>14.8</td>\n",
       "      <td>5.9</td>\n",
       "      <td>2.4</td>\n",
       "    </tr>\n",
       "    <tr>\n",
       "      <th>2</th>\n",
       "      <td>30DTS02</td>\n",
       "      <td></td>\n",
       "      <td>20220923</td>\n",
       "      <td>2.85</td>\n",
       "      <td>5.95</td>\n",
       "      <td>14.2</td>\n",
       "      <td>44.5</td>\n",
       "      <td>74.8</td>\n",
       "      <td>23.9</td>\n",
       "      <td>31.9</td>\n",
       "      <td>...</td>\n",
       "      <td>15.8</td>\n",
       "      <td>13.7</td>\n",
       "      <td>11.1</td>\n",
       "      <td>32.8</td>\n",
       "      <td>0.21</td>\n",
       "      <td>4.9</td>\n",
       "      <td>67.4</td>\n",
       "      <td>19.3</td>\n",
       "      <td>4.9</td>\n",
       "      <td>3.5</td>\n",
       "    </tr>\n",
       "    <tr>\n",
       "      <th>3</th>\n",
       "      <td>29DTS02</td>\n",
       "      <td></td>\n",
       "      <td>20220923</td>\n",
       "      <td>1.96</td>\n",
       "      <td>5.81</td>\n",
       "      <td>15.9</td>\n",
       "      <td>48.7</td>\n",
       "      <td>83.8</td>\n",
       "      <td>27.4</td>\n",
       "      <td>32.6</td>\n",
       "      <td>...</td>\n",
       "      <td>14.6</td>\n",
       "      <td>15.5</td>\n",
       "      <td>12.0</td>\n",
       "      <td>40.5</td>\n",
       "      <td>0.24</td>\n",
       "      <td>6.6</td>\n",
       "      <td>68.9</td>\n",
       "      <td>15.3</td>\n",
       "      <td>6.6</td>\n",
       "      <td>2.6</td>\n",
       "    </tr>\n",
       "    <tr>\n",
       "      <th>4</th>\n",
       "      <td>28DTS02</td>\n",
       "      <td></td>\n",
       "      <td>20220923</td>\n",
       "      <td>1.95</td>\n",
       "      <td>3.64</td>\n",
       "      <td>5.6</td>\n",
       "      <td>20.5</td>\n",
       "      <td>56.3</td>\n",
       "      <td>15.4</td>\n",
       "      <td>27.3</td>\n",
       "      <td>...</td>\n",
       "      <td>23.9</td>\n",
       "      <td></td>\n",
       "      <td></td>\n",
       "      <td></td>\n",
       "      <td></td>\n",
       "      <td>13.8</td>\n",
       "      <td>51.8</td>\n",
       "      <td>15.4</td>\n",
       "      <td>15.9</td>\n",
       "      <td>3.1</td>\n",
       "    </tr>\n",
       "    <tr>\n",
       "      <th>5</th>\n",
       "      <td>27DTS02</td>\n",
       "      <td></td>\n",
       "      <td>20220923</td>\n",
       "      <td>3.38</td>\n",
       "      <td>5.39</td>\n",
       "      <td>12.8</td>\n",
       "      <td>40.2</td>\n",
       "      <td>74.6</td>\n",
       "      <td>23.7</td>\n",
       "      <td>31.8</td>\n",
       "      <td>...</td>\n",
       "      <td>13.3</td>\n",
       "      <td>14.0</td>\n",
       "      <td>11.6</td>\n",
       "      <td>37.0</td>\n",
       "      <td>0.30</td>\n",
       "      <td>10.9</td>\n",
       "      <td>64.8</td>\n",
       "      <td>12.4</td>\n",
       "      <td>9.8</td>\n",
       "      <td>2.1</td>\n",
       "    </tr>\n",
       "    <tr>\n",
       "      <th>6</th>\n",
       "      <td>24DTS02</td>\n",
       "      <td></td>\n",
       "      <td>20220923</td>\n",
       "      <td>5.69</td>\n",
       "      <td>6.38</td>\n",
       "      <td>17.0</td>\n",
       "      <td>51.0</td>\n",
       "      <td>79.9</td>\n",
       "      <td>26.6</td>\n",
       "      <td>33.3</td>\n",
       "      <td>...</td>\n",
       "      <td>13.9</td>\n",
       "      <td>20.0</td>\n",
       "      <td>13.9</td>\n",
       "      <td>56.2</td>\n",
       "      <td>0.21</td>\n",
       "      <td>33.6</td>\n",
       "      <td>46.9</td>\n",
       "      <td>12.3</td>\n",
       "      <td>4.2</td>\n",
       "      <td>3.0</td>\n",
       "    </tr>\n",
       "    <tr>\n",
       "      <th>7</th>\n",
       "      <td>20DTS02</td>\n",
       "      <td></td>\n",
       "      <td>20220923</td>\n",
       "      <td>1.76</td>\n",
       "      <td>5.19</td>\n",
       "      <td>16.0</td>\n",
       "      <td>48.2</td>\n",
       "      <td>92.9</td>\n",
       "      <td>30.8</td>\n",
       "      <td>33.2</td>\n",
       "      <td>...</td>\n",
       "      <td>13.9</td>\n",
       "      <td>17.2</td>\n",
       "      <td>12.8</td>\n",
       "      <td>48.8</td>\n",
       "      <td>0.17</td>\n",
       "      <td>9.2</td>\n",
       "      <td>63.6</td>\n",
       "      <td>19.3</td>\n",
       "      <td>4.5</td>\n",
       "      <td>3.4</td>\n",
       "    </tr>\n",
       "    <tr>\n",
       "      <th>8</th>\n",
       "      <td>18DTS02</td>\n",
       "      <td></td>\n",
       "      <td>20220923</td>\n",
       "      <td>1.84</td>\n",
       "      <td>4.74</td>\n",
       "      <td>13.0</td>\n",
       "      <td>39.3</td>\n",
       "      <td>82.9</td>\n",
       "      <td>27.4</td>\n",
       "      <td>33.1</td>\n",
       "      <td>...</td>\n",
       "      <td>12.9</td>\n",
       "      <td>22.1</td>\n",
       "      <td>16.2</td>\n",
       "      <td>72.8</td>\n",
       "      <td>0.15</td>\n",
       "      <td>44.1</td>\n",
       "      <td>42.4</td>\n",
       "      <td>9.2</td>\n",
       "      <td>1.6</td>\n",
       "      <td>2.7</td>\n",
       "    </tr>\n",
       "    <tr>\n",
       "      <th>9</th>\n",
       "      <td>17DTS02</td>\n",
       "      <td></td>\n",
       "      <td>20220923</td>\n",
       "      <td>2.80</td>\n",
       "      <td>5.19</td>\n",
       "      <td>12.7</td>\n",
       "      <td>40.0</td>\n",
       "      <td>77.1</td>\n",
       "      <td>24.5</td>\n",
       "      <td>31.8</td>\n",
       "      <td>...</td>\n",
       "      <td>17.1</td>\n",
       "      <td>22.0</td>\n",
       "      <td>13.3</td>\n",
       "      <td>51.5</td>\n",
       "      <td>0.20</td>\n",
       "      <td>12.1</td>\n",
       "      <td>70.4</td>\n",
       "      <td>12.1</td>\n",
       "      <td>3.6</td>\n",
       "      <td>1.8</td>\n",
       "    </tr>\n",
       "  </tbody>\n",
       "</table>\n",
       "<p>9 rows × 22 columns</p>\n",
       "</div>"
      ],
      "text/plain": [
       "  study_id        Date   WBC   RBC   HGB   HCT   MCV   MCH  MCHC  ... RDWCV  \\\n",
       "1  31DTS02    20220923  1.69  5.52  15.6  48.8  88.4  28.3  32.0  ...  15.0   \n",
       "2  30DTS02    20220923  2.85  5.95  14.2  44.5  74.8  23.9  31.9  ...  15.8   \n",
       "3  29DTS02    20220923  1.96  5.81  15.9  48.7  83.8  27.4  32.6  ...  14.6   \n",
       "4  28DTS02    20220923  1.95  3.64   5.6  20.5  56.3  15.4  27.3  ...  23.9   \n",
       "5  27DTS02    20220923  3.38  5.39  12.8  40.2  74.6  23.7  31.8  ...  13.3   \n",
       "6  24DTS02    20220923  5.69  6.38  17.0  51.0  79.9  26.6  33.3  ...  13.9   \n",
       "7  20DTS02    20220923  1.76  5.19  16.0  48.2  92.9  30.8  33.2  ...  13.9   \n",
       "8  18DTS02    20220923  1.84  4.74  13.0  39.3  82.9  27.4  33.1  ...  12.9   \n",
       "9  17DTS02    20220923  2.80  5.19  12.7  40.0  77.1  24.5  31.8  ...  17.1   \n",
       "\n",
       "    PDW   MPV  PLCR   PCT NEUT% LYMPH% MONO%   EO% BASO%  \n",
       "1  19.5  13.3  54.5  0.16   7.1   69.8  14.8   5.9   2.4  \n",
       "2  13.7  11.1  32.8  0.21   4.9   67.4  19.3   4.9   3.5  \n",
       "3  15.5  12.0  40.5  0.24   6.6   68.9  15.3   6.6   2.6  \n",
       "4                          13.8   51.8  15.4  15.9   3.1  \n",
       "5  14.0  11.6  37.0  0.30  10.9   64.8  12.4   9.8   2.1  \n",
       "6  20.0  13.9  56.2  0.21  33.6   46.9  12.3   4.2   3.0  \n",
       "7  17.2  12.8  48.8  0.17   9.2   63.6  19.3   4.5   3.4  \n",
       "8  22.1  16.2  72.8  0.15  44.1   42.4   9.2   1.6   2.7  \n",
       "9  22.0  13.3  51.5  0.20  12.1   70.4  12.1   3.6   1.8  \n",
       "\n",
       "[9 rows x 22 columns]"
      ]
     },
     "execution_count": 674,
     "metadata": {},
     "output_type": "execute_result"
    }
   ],
   "source": [
    "df1"
   ]
  },
  {
   "cell_type": "code",
   "execution_count": 675,
   "id": "0ea4ef94",
   "metadata": {},
   "outputs": [
    {
     "data": {
      "text/html": [
       "<div>\n",
       "<style scoped>\n",
       "    .dataframe tbody tr th:only-of-type {\n",
       "        vertical-align: middle;\n",
       "    }\n",
       "\n",
       "    .dataframe tbody tr th {\n",
       "        vertical-align: top;\n",
       "    }\n",
       "\n",
       "    .dataframe thead th {\n",
       "        text-align: right;\n",
       "    }\n",
       "</style>\n",
       "<table border=\"1\" class=\"dataframe\">\n",
       "  <thead>\n",
       "    <tr style=\"text-align: right;\">\n",
       "      <th></th>\n",
       "      <th>count</th>\n",
       "      <th>unique</th>\n",
       "      <th>top</th>\n",
       "      <th>freq</th>\n",
       "    </tr>\n",
       "  </thead>\n",
       "  <tbody>\n",
       "    <tr>\n",
       "      <th>study_id</th>\n",
       "      <td>9</td>\n",
       "      <td>9</td>\n",
       "      <td>20DTS02</td>\n",
       "      <td>1</td>\n",
       "    </tr>\n",
       "    <tr>\n",
       "      <th></th>\n",
       "      <td>9</td>\n",
       "      <td>1</td>\n",
       "      <td></td>\n",
       "      <td>9</td>\n",
       "    </tr>\n",
       "    <tr>\n",
       "      <th>Date</th>\n",
       "      <td>9</td>\n",
       "      <td>1</td>\n",
       "      <td>20220923</td>\n",
       "      <td>9</td>\n",
       "    </tr>\n",
       "    <tr>\n",
       "      <th>WBC</th>\n",
       "      <td>9</td>\n",
       "      <td>9</td>\n",
       "      <td>2.80</td>\n",
       "      <td>1</td>\n",
       "    </tr>\n",
       "    <tr>\n",
       "      <th>RBC</th>\n",
       "      <td>9</td>\n",
       "      <td>8</td>\n",
       "      <td>5.19</td>\n",
       "      <td>2</td>\n",
       "    </tr>\n",
       "    <tr>\n",
       "      <th>HGB</th>\n",
       "      <td>9</td>\n",
       "      <td>9</td>\n",
       "      <td>12.7</td>\n",
       "      <td>1</td>\n",
       "    </tr>\n",
       "    <tr>\n",
       "      <th>HCT</th>\n",
       "      <td>9</td>\n",
       "      <td>9</td>\n",
       "      <td>51.0</td>\n",
       "      <td>1</td>\n",
       "    </tr>\n",
       "    <tr>\n",
       "      <th>MCV</th>\n",
       "      <td>9</td>\n",
       "      <td>9</td>\n",
       "      <td>74.6</td>\n",
       "      <td>1</td>\n",
       "    </tr>\n",
       "    <tr>\n",
       "      <th>MCH</th>\n",
       "      <td>9</td>\n",
       "      <td>8</td>\n",
       "      <td>27.4</td>\n",
       "      <td>2</td>\n",
       "    </tr>\n",
       "    <tr>\n",
       "      <th>MCHC</th>\n",
       "      <td>9</td>\n",
       "      <td>8</td>\n",
       "      <td>31.8</td>\n",
       "      <td>2</td>\n",
       "    </tr>\n",
       "    <tr>\n",
       "      <th>PLT</th>\n",
       "      <td>9</td>\n",
       "      <td>9</td>\n",
       "      <td>204</td>\n",
       "      <td>1</td>\n",
       "    </tr>\n",
       "    <tr>\n",
       "      <th>RDWSD</th>\n",
       "      <td>9</td>\n",
       "      <td>9</td>\n",
       "      <td>45.4</td>\n",
       "      <td>1</td>\n",
       "    </tr>\n",
       "    <tr>\n",
       "      <th>RDWCV</th>\n",
       "      <td>9</td>\n",
       "      <td>8</td>\n",
       "      <td>13.9</td>\n",
       "      <td>2</td>\n",
       "    </tr>\n",
       "    <tr>\n",
       "      <th>PDW</th>\n",
       "      <td>9</td>\n",
       "      <td>9</td>\n",
       "      <td></td>\n",
       "      <td>1</td>\n",
       "    </tr>\n",
       "    <tr>\n",
       "      <th>MPV</th>\n",
       "      <td>9</td>\n",
       "      <td>8</td>\n",
       "      <td>13.3</td>\n",
       "      <td>2</td>\n",
       "    </tr>\n",
       "    <tr>\n",
       "      <th>PLCR</th>\n",
       "      <td>9</td>\n",
       "      <td>9</td>\n",
       "      <td></td>\n",
       "      <td>1</td>\n",
       "    </tr>\n",
       "    <tr>\n",
       "      <th>PCT</th>\n",
       "      <td>9</td>\n",
       "      <td>8</td>\n",
       "      <td>0.21</td>\n",
       "      <td>2</td>\n",
       "    </tr>\n",
       "    <tr>\n",
       "      <th>NEUT%</th>\n",
       "      <td>9</td>\n",
       "      <td>9</td>\n",
       "      <td>12.1</td>\n",
       "      <td>1</td>\n",
       "    </tr>\n",
       "    <tr>\n",
       "      <th>LYMPH%</th>\n",
       "      <td>9</td>\n",
       "      <td>9</td>\n",
       "      <td>67.4</td>\n",
       "      <td>1</td>\n",
       "    </tr>\n",
       "    <tr>\n",
       "      <th>MONO%</th>\n",
       "      <td>9</td>\n",
       "      <td>8</td>\n",
       "      <td>19.3</td>\n",
       "      <td>2</td>\n",
       "    </tr>\n",
       "    <tr>\n",
       "      <th>EO%</th>\n",
       "      <td>9</td>\n",
       "      <td>9</td>\n",
       "      <td>5.9</td>\n",
       "      <td>1</td>\n",
       "    </tr>\n",
       "    <tr>\n",
       "      <th>BASO%</th>\n",
       "      <td>9</td>\n",
       "      <td>9</td>\n",
       "      <td>3.1</td>\n",
       "      <td>1</td>\n",
       "    </tr>\n",
       "  </tbody>\n",
       "</table>\n",
       "</div>"
      ],
      "text/plain": [
       "         count unique       top freq\n",
       "study_id     9      9   20DTS02    1\n",
       "             9      1              9\n",
       "Date         9      1  20220923    9\n",
       "WBC          9      9      2.80    1\n",
       "RBC          9      8      5.19    2\n",
       "HGB          9      9      12.7    1\n",
       "HCT          9      9      51.0    1\n",
       "MCV          9      9      74.6    1\n",
       "MCH          9      8      27.4    2\n",
       "MCHC         9      8      31.8    2\n",
       "PLT          9      9       204    1\n",
       "RDWSD        9      9      45.4    1\n",
       "RDWCV        9      8      13.9    2\n",
       "PDW          9      9              1\n",
       "MPV          9      8      13.3    2\n",
       "PLCR         9      9              1\n",
       "PCT          9      8      0.21    2\n",
       "NEUT%        9      9      12.1    1\n",
       "LYMPH%       9      9      67.4    1\n",
       "MONO%        9      8      19.3    2\n",
       "EO%          9      9       5.9    1\n",
       "BASO%        9      9       3.1    1"
      ]
     },
     "execution_count": 675,
     "metadata": {},
     "output_type": "execute_result"
    }
   ],
   "source": [
    "df1.describe().T"
   ]
  },
  {
   "cell_type": "markdown",
   "id": "e4cab5d4",
   "metadata": {},
   "source": [
    "> There is something Fishy, We got only max value and frequency(mode) which indicates that dtype would be wrong, Let's check it."
   ]
  },
  {
   "cell_type": "code",
   "execution_count": 676,
   "id": "9b2c43f9",
   "metadata": {},
   "outputs": [
    {
     "name": "stdout",
     "output_type": "stream",
     "text": [
      "<class 'pandas.core.frame.DataFrame'>\n",
      "Int64Index: 9 entries, 1 to 9\n",
      "Data columns (total 22 columns):\n",
      " #   Column    Non-Null Count  Dtype \n",
      "---  ------    --------------  ----- \n",
      " 0   study_id  9 non-null      object\n",
      " 1             9 non-null      object\n",
      " 2   Date      9 non-null      object\n",
      " 3   WBC       9 non-null      object\n",
      " 4   RBC       9 non-null      object\n",
      " 5   HGB       9 non-null      object\n",
      " 6   HCT       9 non-null      object\n",
      " 7   MCV       9 non-null      object\n",
      " 8   MCH       9 non-null      object\n",
      " 9   MCHC      9 non-null      object\n",
      " 10  PLT       9 non-null      object\n",
      " 11  RDWSD     9 non-null      object\n",
      " 12  RDWCV     9 non-null      object\n",
      " 13  PDW       9 non-null      object\n",
      " 14  MPV       9 non-null      object\n",
      " 15  PLCR      9 non-null      object\n",
      " 16  PCT       9 non-null      object\n",
      " 17  NEUT%     9 non-null      object\n",
      " 18  LYMPH%    9 non-null      object\n",
      " 19  MONO%     9 non-null      object\n",
      " 20  EO%       9 non-null      object\n",
      " 21  BASO%     9 non-null      object\n",
      "dtypes: object(22)\n",
      "memory usage: 1.6+ KB\n"
     ]
    }
   ],
   "source": [
    "#Let's check some info first\n",
    "df1.info()"
   ]
  },
  {
   "cell_type": "markdown",
   "id": "55529164",
   "metadata": {},
   "source": [
    "> Yes, as we suspected we have Integer and Float Values but there dtype is Object so let's change this to Float-64"
   ]
  },
  {
   "cell_type": "code",
   "execution_count": 677,
   "id": "949f4857",
   "metadata": {},
   "outputs": [],
   "source": [
    "#Let's change the data type of All the columns\n",
    "df1 = df1.astype({'Date': 'datetime64[ns]','WBC': 'float64','RBC': 'float64','HGB': 'float64','HCT': 'float64','MCV': 'float64','MCH': 'float64','MCHC': 'float64','PLT': 'float64','RDWSD': 'float64','RDWCV': 'float64','NEUT%': 'float64','LYMPH%': 'float64','MONO%': 'float64','EO%': 'float64','BASO%': 'float64'})"
   ]
  },
  {
   "cell_type": "code",
   "execution_count": 678,
   "id": "bf41b10f",
   "metadata": {},
   "outputs": [
    {
     "name": "stdout",
     "output_type": "stream",
     "text": [
      "<class 'pandas.core.frame.DataFrame'>\n",
      "Int64Index: 9 entries, 1 to 9\n",
      "Data columns (total 22 columns):\n",
      " #   Column    Non-Null Count  Dtype         \n",
      "---  ------    --------------  -----         \n",
      " 0   study_id  9 non-null      object        \n",
      " 1             9 non-null      object        \n",
      " 2   Date      9 non-null      datetime64[ns]\n",
      " 3   WBC       9 non-null      float64       \n",
      " 4   RBC       9 non-null      float64       \n",
      " 5   HGB       9 non-null      float64       \n",
      " 6   HCT       9 non-null      float64       \n",
      " 7   MCV       9 non-null      float64       \n",
      " 8   MCH       9 non-null      float64       \n",
      " 9   MCHC      9 non-null      float64       \n",
      " 10  PLT       9 non-null      float64       \n",
      " 11  RDWSD     9 non-null      float64       \n",
      " 12  RDWCV     9 non-null      float64       \n",
      " 13  PDW       9 non-null      object        \n",
      " 14  MPV       9 non-null      object        \n",
      " 15  PLCR      9 non-null      object        \n",
      " 16  PCT       9 non-null      object        \n",
      " 17  NEUT%     9 non-null      float64       \n",
      " 18  LYMPH%    9 non-null      float64       \n",
      " 19  MONO%     9 non-null      float64       \n",
      " 20  EO%       9 non-null      float64       \n",
      " 21  BASO%     9 non-null      float64       \n",
      "dtypes: datetime64[ns](1), float64(15), object(6)\n",
      "memory usage: 1.6+ KB\n"
     ]
    }
   ],
   "source": [
    "df1.info()"
   ]
  },
  {
   "cell_type": "code",
   "execution_count": 679,
   "id": "7027747a",
   "metadata": {},
   "outputs": [
    {
     "data": {
      "text/plain": [
       "study_id    0\n",
       "            0\n",
       "Date        0\n",
       "WBC         0\n",
       "RBC         0\n",
       "HGB         0\n",
       "HCT         0\n",
       "MCV         0\n",
       "MCH         0\n",
       "MCHC        0\n",
       "PLT         0\n",
       "RDWSD       0\n",
       "RDWCV       0\n",
       "PDW         0\n",
       "MPV         0\n",
       "PLCR        0\n",
       "PCT         0\n",
       "NEUT%       0\n",
       "LYMPH%      0\n",
       "MONO%       0\n",
       "EO%         0\n",
       "BASO%       0\n",
       "dtype: int64"
      ]
     },
     "execution_count": 679,
     "metadata": {},
     "output_type": "execute_result"
    }
   ],
   "source": [
    "#Check the missing values\n",
    "df1.isnull().sum()"
   ]
  },
  {
   "cell_type": "markdown",
   "id": "f5088582",
   "metadata": {},
   "source": [
    "> Quite Strange we have missing values in these all 4 Object Columns. Let's check the 4th Row of PDW"
   ]
  },
  {
   "cell_type": "code",
   "execution_count": 680,
   "id": "c49bbdf0",
   "metadata": {},
   "outputs": [
    {
     "data": {
      "text/plain": [
       "''"
      ]
     },
     "execution_count": 680,
     "metadata": {},
     "output_type": "execute_result"
    }
   ],
   "source": [
    "#Now we have remaining 4 features having dtype Object but there are some missing values in these features so we can't convert them into float64\n",
    "df1.PDW.loc[4]"
   ]
  },
  {
   "cell_type": "markdown",
   "id": "6adb126f",
   "metadata": {},
   "source": [
    "> Yup, It's not the missing Values but the String which protect this to change the type from Object to Float, Let's handle this\n"
   ]
  },
  {
   "cell_type": "code",
   "execution_count": 681,
   "id": "a9741fef",
   "metadata": {},
   "outputs": [
    {
     "name": "stderr",
     "output_type": "stream",
     "text": [
      "c:\\ProgramData\\Anaconda3\\lib\\site-packages\\pandas\\core\\indexing.py:1637: SettingWithCopyWarning: \n",
      "A value is trying to be set on a copy of a slice from a DataFrame\n",
      "\n",
      "See the caveats in the documentation: https://pandas.pydata.org/pandas-docs/stable/user_guide/indexing.html#returning-a-view-versus-a-copy\n",
      "  self._setitem_single_block(indexer, value, name)\n"
     ]
    }
   ],
   "source": [
    "#Let's change this value with mode of the feature\n",
    "df1.MPV.loc[4] = df1.MPV.mode()[0]\n",
    "df1.PDW.loc[4] = df1.PDW.mode()[1]\n",
    "\n"
   ]
  },
  {
   "cell_type": "code",
   "execution_count": 682,
   "id": "7b6708fd",
   "metadata": {},
   "outputs": [
    {
     "data": {
      "text/html": [
       "<div>\n",
       "<style scoped>\n",
       "    .dataframe tbody tr th:only-of-type {\n",
       "        vertical-align: middle;\n",
       "    }\n",
       "\n",
       "    .dataframe tbody tr th {\n",
       "        vertical-align: top;\n",
       "    }\n",
       "\n",
       "    .dataframe thead th {\n",
       "        text-align: right;\n",
       "    }\n",
       "</style>\n",
       "<table border=\"1\" class=\"dataframe\">\n",
       "  <thead>\n",
       "    <tr style=\"text-align: right;\">\n",
       "      <th></th>\n",
       "      <th>study_id</th>\n",
       "      <th></th>\n",
       "      <th>Date</th>\n",
       "      <th>WBC</th>\n",
       "      <th>RBC</th>\n",
       "      <th>HGB</th>\n",
       "      <th>HCT</th>\n",
       "      <th>MCV</th>\n",
       "      <th>MCH</th>\n",
       "      <th>MCHC</th>\n",
       "      <th>...</th>\n",
       "      <th>RDWCV</th>\n",
       "      <th>PDW</th>\n",
       "      <th>MPV</th>\n",
       "      <th>PLCR</th>\n",
       "      <th>PCT</th>\n",
       "      <th>NEUT%</th>\n",
       "      <th>LYMPH%</th>\n",
       "      <th>MONO%</th>\n",
       "      <th>EO%</th>\n",
       "      <th>BASO%</th>\n",
       "    </tr>\n",
       "  </thead>\n",
       "  <tbody>\n",
       "    <tr>\n",
       "      <th>1</th>\n",
       "      <td>31DTS02</td>\n",
       "      <td></td>\n",
       "      <td>2022-09-23</td>\n",
       "      <td>1.69</td>\n",
       "      <td>5.52</td>\n",
       "      <td>15.6</td>\n",
       "      <td>48.8</td>\n",
       "      <td>88.4</td>\n",
       "      <td>28.3</td>\n",
       "      <td>32.0</td>\n",
       "      <td>...</td>\n",
       "      <td>15.0</td>\n",
       "      <td>19.5</td>\n",
       "      <td>13.3</td>\n",
       "      <td>54.5</td>\n",
       "      <td>0.16</td>\n",
       "      <td>7.1</td>\n",
       "      <td>69.8</td>\n",
       "      <td>14.8</td>\n",
       "      <td>5.9</td>\n",
       "      <td>2.4</td>\n",
       "    </tr>\n",
       "    <tr>\n",
       "      <th>2</th>\n",
       "      <td>30DTS02</td>\n",
       "      <td></td>\n",
       "      <td>2022-09-23</td>\n",
       "      <td>2.85</td>\n",
       "      <td>5.95</td>\n",
       "      <td>14.2</td>\n",
       "      <td>44.5</td>\n",
       "      <td>74.8</td>\n",
       "      <td>23.9</td>\n",
       "      <td>31.9</td>\n",
       "      <td>...</td>\n",
       "      <td>15.8</td>\n",
       "      <td>13.7</td>\n",
       "      <td>11.1</td>\n",
       "      <td>32.8</td>\n",
       "      <td>0.21</td>\n",
       "      <td>4.9</td>\n",
       "      <td>67.4</td>\n",
       "      <td>19.3</td>\n",
       "      <td>4.9</td>\n",
       "      <td>3.5</td>\n",
       "    </tr>\n",
       "    <tr>\n",
       "      <th>3</th>\n",
       "      <td>29DTS02</td>\n",
       "      <td></td>\n",
       "      <td>2022-09-23</td>\n",
       "      <td>1.96</td>\n",
       "      <td>5.81</td>\n",
       "      <td>15.9</td>\n",
       "      <td>48.7</td>\n",
       "      <td>83.8</td>\n",
       "      <td>27.4</td>\n",
       "      <td>32.6</td>\n",
       "      <td>...</td>\n",
       "      <td>14.6</td>\n",
       "      <td>15.5</td>\n",
       "      <td>12.0</td>\n",
       "      <td>40.5</td>\n",
       "      <td>0.24</td>\n",
       "      <td>6.6</td>\n",
       "      <td>68.9</td>\n",
       "      <td>15.3</td>\n",
       "      <td>6.6</td>\n",
       "      <td>2.6</td>\n",
       "    </tr>\n",
       "    <tr>\n",
       "      <th>4</th>\n",
       "      <td>28DTS02</td>\n",
       "      <td></td>\n",
       "      <td>2022-09-23</td>\n",
       "      <td>1.95</td>\n",
       "      <td>3.64</td>\n",
       "      <td>5.6</td>\n",
       "      <td>20.5</td>\n",
       "      <td>56.3</td>\n",
       "      <td>15.4</td>\n",
       "      <td>27.3</td>\n",
       "      <td>...</td>\n",
       "      <td>23.9</td>\n",
       "      <td>13.7</td>\n",
       "      <td>13.3</td>\n",
       "      <td></td>\n",
       "      <td></td>\n",
       "      <td>13.8</td>\n",
       "      <td>51.8</td>\n",
       "      <td>15.4</td>\n",
       "      <td>15.9</td>\n",
       "      <td>3.1</td>\n",
       "    </tr>\n",
       "    <tr>\n",
       "      <th>5</th>\n",
       "      <td>27DTS02</td>\n",
       "      <td></td>\n",
       "      <td>2022-09-23</td>\n",
       "      <td>3.38</td>\n",
       "      <td>5.39</td>\n",
       "      <td>12.8</td>\n",
       "      <td>40.2</td>\n",
       "      <td>74.6</td>\n",
       "      <td>23.7</td>\n",
       "      <td>31.8</td>\n",
       "      <td>...</td>\n",
       "      <td>13.3</td>\n",
       "      <td>14.0</td>\n",
       "      <td>11.6</td>\n",
       "      <td>37.0</td>\n",
       "      <td>0.30</td>\n",
       "      <td>10.9</td>\n",
       "      <td>64.8</td>\n",
       "      <td>12.4</td>\n",
       "      <td>9.8</td>\n",
       "      <td>2.1</td>\n",
       "    </tr>\n",
       "  </tbody>\n",
       "</table>\n",
       "<p>5 rows × 22 columns</p>\n",
       "</div>"
      ],
      "text/plain": [
       "  study_id         Date   WBC   RBC   HGB   HCT   MCV   MCH  MCHC  ...  RDWCV  \\\n",
       "1  31DTS02   2022-09-23  1.69  5.52  15.6  48.8  88.4  28.3  32.0  ...   15.0   \n",
       "2  30DTS02   2022-09-23  2.85  5.95  14.2  44.5  74.8  23.9  31.9  ...   15.8   \n",
       "3  29DTS02   2022-09-23  1.96  5.81  15.9  48.7  83.8  27.4  32.6  ...   14.6   \n",
       "4  28DTS02   2022-09-23  1.95  3.64   5.6  20.5  56.3  15.4  27.3  ...   23.9   \n",
       "5  27DTS02   2022-09-23  3.38  5.39  12.8  40.2  74.6  23.7  31.8  ...   13.3   \n",
       "\n",
       "    PDW   MPV  PLCR   PCT NEUT% LYMPH%  MONO%   EO%  BASO%  \n",
       "1  19.5  13.3  54.5  0.16   7.1   69.8   14.8   5.9    2.4  \n",
       "2  13.7  11.1  32.8  0.21   4.9   67.4   19.3   4.9    3.5  \n",
       "3  15.5  12.0  40.5  0.24   6.6   68.9   15.3   6.6    2.6  \n",
       "4  13.7  13.3              13.8   51.8   15.4  15.9    3.1  \n",
       "5  14.0  11.6  37.0  0.30  10.9   64.8   12.4   9.8    2.1  \n",
       "\n",
       "[5 rows x 22 columns]"
      ]
     },
     "execution_count": 682,
     "metadata": {},
     "output_type": "execute_result"
    }
   ],
   "source": [
    "df1.head()"
   ]
  },
  {
   "cell_type": "markdown",
   "id": "49ef8272",
   "metadata": {},
   "source": [
    "> So we have overcome this issue, Let's handle remiaing Object feature with same approach"
   ]
  },
  {
   "cell_type": "code",
   "execution_count": 683,
   "id": "debcf973",
   "metadata": {},
   "outputs": [
    {
     "name": "stderr",
     "output_type": "stream",
     "text": [
      "c:\\ProgramData\\Anaconda3\\lib\\site-packages\\pandas\\core\\indexing.py:1637: SettingWithCopyWarning: \n",
      "A value is trying to be set on a copy of a slice from a DataFrame\n",
      "\n",
      "See the caveats in the documentation: https://pandas.pydata.org/pandas-docs/stable/user_guide/indexing.html#returning-a-view-versus-a-copy\n",
      "  self._setitem_single_block(indexer, value, name)\n"
     ]
    }
   ],
   "source": [
    "df1.PLCR.loc[4] = df1.PLCR.mode()[1]"
   ]
  },
  {
   "cell_type": "code",
   "execution_count": 684,
   "id": "40b45e55",
   "metadata": {},
   "outputs": [
    {
     "data": {
      "text/html": [
       "<div>\n",
       "<style scoped>\n",
       "    .dataframe tbody tr th:only-of-type {\n",
       "        vertical-align: middle;\n",
       "    }\n",
       "\n",
       "    .dataframe tbody tr th {\n",
       "        vertical-align: top;\n",
       "    }\n",
       "\n",
       "    .dataframe thead th {\n",
       "        text-align: right;\n",
       "    }\n",
       "</style>\n",
       "<table border=\"1\" class=\"dataframe\">\n",
       "  <thead>\n",
       "    <tr style=\"text-align: right;\">\n",
       "      <th></th>\n",
       "      <th>study_id</th>\n",
       "      <th></th>\n",
       "      <th>Date</th>\n",
       "      <th>WBC</th>\n",
       "      <th>RBC</th>\n",
       "      <th>HGB</th>\n",
       "      <th>HCT</th>\n",
       "      <th>MCV</th>\n",
       "      <th>MCH</th>\n",
       "      <th>MCHC</th>\n",
       "      <th>...</th>\n",
       "      <th>RDWCV</th>\n",
       "      <th>PDW</th>\n",
       "      <th>MPV</th>\n",
       "      <th>PLCR</th>\n",
       "      <th>PCT</th>\n",
       "      <th>NEUT%</th>\n",
       "      <th>LYMPH%</th>\n",
       "      <th>MONO%</th>\n",
       "      <th>EO%</th>\n",
       "      <th>BASO%</th>\n",
       "    </tr>\n",
       "  </thead>\n",
       "  <tbody>\n",
       "    <tr>\n",
       "      <th>1</th>\n",
       "      <td>31DTS02</td>\n",
       "      <td></td>\n",
       "      <td>2022-09-23</td>\n",
       "      <td>1.69</td>\n",
       "      <td>5.52</td>\n",
       "      <td>15.6</td>\n",
       "      <td>48.8</td>\n",
       "      <td>88.4</td>\n",
       "      <td>28.3</td>\n",
       "      <td>32.0</td>\n",
       "      <td>...</td>\n",
       "      <td>15.0</td>\n",
       "      <td>19.5</td>\n",
       "      <td>13.3</td>\n",
       "      <td>54.5</td>\n",
       "      <td>0.16</td>\n",
       "      <td>7.1</td>\n",
       "      <td>69.8</td>\n",
       "      <td>14.8</td>\n",
       "      <td>5.9</td>\n",
       "      <td>2.4</td>\n",
       "    </tr>\n",
       "    <tr>\n",
       "      <th>2</th>\n",
       "      <td>30DTS02</td>\n",
       "      <td></td>\n",
       "      <td>2022-09-23</td>\n",
       "      <td>2.85</td>\n",
       "      <td>5.95</td>\n",
       "      <td>14.2</td>\n",
       "      <td>44.5</td>\n",
       "      <td>74.8</td>\n",
       "      <td>23.9</td>\n",
       "      <td>31.9</td>\n",
       "      <td>...</td>\n",
       "      <td>15.8</td>\n",
       "      <td>13.7</td>\n",
       "      <td>11.1</td>\n",
       "      <td>32.8</td>\n",
       "      <td>0.21</td>\n",
       "      <td>4.9</td>\n",
       "      <td>67.4</td>\n",
       "      <td>19.3</td>\n",
       "      <td>4.9</td>\n",
       "      <td>3.5</td>\n",
       "    </tr>\n",
       "    <tr>\n",
       "      <th>3</th>\n",
       "      <td>29DTS02</td>\n",
       "      <td></td>\n",
       "      <td>2022-09-23</td>\n",
       "      <td>1.96</td>\n",
       "      <td>5.81</td>\n",
       "      <td>15.9</td>\n",
       "      <td>48.7</td>\n",
       "      <td>83.8</td>\n",
       "      <td>27.4</td>\n",
       "      <td>32.6</td>\n",
       "      <td>...</td>\n",
       "      <td>14.6</td>\n",
       "      <td>15.5</td>\n",
       "      <td>12.0</td>\n",
       "      <td>40.5</td>\n",
       "      <td>0.24</td>\n",
       "      <td>6.6</td>\n",
       "      <td>68.9</td>\n",
       "      <td>15.3</td>\n",
       "      <td>6.6</td>\n",
       "      <td>2.6</td>\n",
       "    </tr>\n",
       "    <tr>\n",
       "      <th>4</th>\n",
       "      <td>28DTS02</td>\n",
       "      <td></td>\n",
       "      <td>2022-09-23</td>\n",
       "      <td>1.95</td>\n",
       "      <td>3.64</td>\n",
       "      <td>5.6</td>\n",
       "      <td>20.5</td>\n",
       "      <td>56.3</td>\n",
       "      <td>15.4</td>\n",
       "      <td>27.3</td>\n",
       "      <td>...</td>\n",
       "      <td>23.9</td>\n",
       "      <td>13.7</td>\n",
       "      <td>13.3</td>\n",
       "      <td>32.8</td>\n",
       "      <td></td>\n",
       "      <td>13.8</td>\n",
       "      <td>51.8</td>\n",
       "      <td>15.4</td>\n",
       "      <td>15.9</td>\n",
       "      <td>3.1</td>\n",
       "    </tr>\n",
       "    <tr>\n",
       "      <th>5</th>\n",
       "      <td>27DTS02</td>\n",
       "      <td></td>\n",
       "      <td>2022-09-23</td>\n",
       "      <td>3.38</td>\n",
       "      <td>5.39</td>\n",
       "      <td>12.8</td>\n",
       "      <td>40.2</td>\n",
       "      <td>74.6</td>\n",
       "      <td>23.7</td>\n",
       "      <td>31.8</td>\n",
       "      <td>...</td>\n",
       "      <td>13.3</td>\n",
       "      <td>14.0</td>\n",
       "      <td>11.6</td>\n",
       "      <td>37.0</td>\n",
       "      <td>0.30</td>\n",
       "      <td>10.9</td>\n",
       "      <td>64.8</td>\n",
       "      <td>12.4</td>\n",
       "      <td>9.8</td>\n",
       "      <td>2.1</td>\n",
       "    </tr>\n",
       "  </tbody>\n",
       "</table>\n",
       "<p>5 rows × 22 columns</p>\n",
       "</div>"
      ],
      "text/plain": [
       "  study_id         Date   WBC   RBC   HGB   HCT   MCV   MCH  MCHC  ...  RDWCV  \\\n",
       "1  31DTS02   2022-09-23  1.69  5.52  15.6  48.8  88.4  28.3  32.0  ...   15.0   \n",
       "2  30DTS02   2022-09-23  2.85  5.95  14.2  44.5  74.8  23.9  31.9  ...   15.8   \n",
       "3  29DTS02   2022-09-23  1.96  5.81  15.9  48.7  83.8  27.4  32.6  ...   14.6   \n",
       "4  28DTS02   2022-09-23  1.95  3.64   5.6  20.5  56.3  15.4  27.3  ...   23.9   \n",
       "5  27DTS02   2022-09-23  3.38  5.39  12.8  40.2  74.6  23.7  31.8  ...   13.3   \n",
       "\n",
       "    PDW   MPV  PLCR   PCT NEUT% LYMPH%  MONO%   EO%  BASO%  \n",
       "1  19.5  13.3  54.5  0.16   7.1   69.8   14.8   5.9    2.4  \n",
       "2  13.7  11.1  32.8  0.21   4.9   67.4   19.3   4.9    3.5  \n",
       "3  15.5  12.0  40.5  0.24   6.6   68.9   15.3   6.6    2.6  \n",
       "4  13.7  13.3  32.8        13.8   51.8   15.4  15.9    3.1  \n",
       "5  14.0  11.6  37.0  0.30  10.9   64.8   12.4   9.8    2.1  \n",
       "\n",
       "[5 rows x 22 columns]"
      ]
     },
     "execution_count": 684,
     "metadata": {},
     "output_type": "execute_result"
    }
   ],
   "source": [
    "df1.head()"
   ]
  },
  {
   "cell_type": "code",
   "execution_count": 685,
   "id": "77f5e894",
   "metadata": {},
   "outputs": [
    {
     "name": "stderr",
     "output_type": "stream",
     "text": [
      "c:\\ProgramData\\Anaconda3\\lib\\site-packages\\pandas\\core\\indexing.py:1637: SettingWithCopyWarning: \n",
      "A value is trying to be set on a copy of a slice from a DataFrame\n",
      "\n",
      "See the caveats in the documentation: https://pandas.pydata.org/pandas-docs/stable/user_guide/indexing.html#returning-a-view-versus-a-copy\n",
      "  self._setitem_single_block(indexer, value, name)\n"
     ]
    }
   ],
   "source": [
    "df1.PCT.loc[4] = df1.PCT.mode()[0]"
   ]
  },
  {
   "cell_type": "code",
   "execution_count": 686,
   "id": "05b3f902",
   "metadata": {},
   "outputs": [
    {
     "data": {
      "text/html": [
       "<div>\n",
       "<style scoped>\n",
       "    .dataframe tbody tr th:only-of-type {\n",
       "        vertical-align: middle;\n",
       "    }\n",
       "\n",
       "    .dataframe tbody tr th {\n",
       "        vertical-align: top;\n",
       "    }\n",
       "\n",
       "    .dataframe thead th {\n",
       "        text-align: right;\n",
       "    }\n",
       "</style>\n",
       "<table border=\"1\" class=\"dataframe\">\n",
       "  <thead>\n",
       "    <tr style=\"text-align: right;\">\n",
       "      <th></th>\n",
       "      <th>study_id</th>\n",
       "      <th></th>\n",
       "      <th>Date</th>\n",
       "      <th>WBC</th>\n",
       "      <th>RBC</th>\n",
       "      <th>HGB</th>\n",
       "      <th>HCT</th>\n",
       "      <th>MCV</th>\n",
       "      <th>MCH</th>\n",
       "      <th>MCHC</th>\n",
       "      <th>...</th>\n",
       "      <th>RDWCV</th>\n",
       "      <th>PDW</th>\n",
       "      <th>MPV</th>\n",
       "      <th>PLCR</th>\n",
       "      <th>PCT</th>\n",
       "      <th>NEUT%</th>\n",
       "      <th>LYMPH%</th>\n",
       "      <th>MONO%</th>\n",
       "      <th>EO%</th>\n",
       "      <th>BASO%</th>\n",
       "    </tr>\n",
       "  </thead>\n",
       "  <tbody>\n",
       "    <tr>\n",
       "      <th>1</th>\n",
       "      <td>31DTS02</td>\n",
       "      <td></td>\n",
       "      <td>2022-09-23</td>\n",
       "      <td>1.69</td>\n",
       "      <td>5.52</td>\n",
       "      <td>15.6</td>\n",
       "      <td>48.8</td>\n",
       "      <td>88.4</td>\n",
       "      <td>28.3</td>\n",
       "      <td>32.0</td>\n",
       "      <td>...</td>\n",
       "      <td>15.0</td>\n",
       "      <td>19.5</td>\n",
       "      <td>13.3</td>\n",
       "      <td>54.5</td>\n",
       "      <td>0.16</td>\n",
       "      <td>7.1</td>\n",
       "      <td>69.8</td>\n",
       "      <td>14.8</td>\n",
       "      <td>5.9</td>\n",
       "      <td>2.4</td>\n",
       "    </tr>\n",
       "    <tr>\n",
       "      <th>2</th>\n",
       "      <td>30DTS02</td>\n",
       "      <td></td>\n",
       "      <td>2022-09-23</td>\n",
       "      <td>2.85</td>\n",
       "      <td>5.95</td>\n",
       "      <td>14.2</td>\n",
       "      <td>44.5</td>\n",
       "      <td>74.8</td>\n",
       "      <td>23.9</td>\n",
       "      <td>31.9</td>\n",
       "      <td>...</td>\n",
       "      <td>15.8</td>\n",
       "      <td>13.7</td>\n",
       "      <td>11.1</td>\n",
       "      <td>32.8</td>\n",
       "      <td>0.21</td>\n",
       "      <td>4.9</td>\n",
       "      <td>67.4</td>\n",
       "      <td>19.3</td>\n",
       "      <td>4.9</td>\n",
       "      <td>3.5</td>\n",
       "    </tr>\n",
       "    <tr>\n",
       "      <th>3</th>\n",
       "      <td>29DTS02</td>\n",
       "      <td></td>\n",
       "      <td>2022-09-23</td>\n",
       "      <td>1.96</td>\n",
       "      <td>5.81</td>\n",
       "      <td>15.9</td>\n",
       "      <td>48.7</td>\n",
       "      <td>83.8</td>\n",
       "      <td>27.4</td>\n",
       "      <td>32.6</td>\n",
       "      <td>...</td>\n",
       "      <td>14.6</td>\n",
       "      <td>15.5</td>\n",
       "      <td>12.0</td>\n",
       "      <td>40.5</td>\n",
       "      <td>0.24</td>\n",
       "      <td>6.6</td>\n",
       "      <td>68.9</td>\n",
       "      <td>15.3</td>\n",
       "      <td>6.6</td>\n",
       "      <td>2.6</td>\n",
       "    </tr>\n",
       "    <tr>\n",
       "      <th>4</th>\n",
       "      <td>28DTS02</td>\n",
       "      <td></td>\n",
       "      <td>2022-09-23</td>\n",
       "      <td>1.95</td>\n",
       "      <td>3.64</td>\n",
       "      <td>5.6</td>\n",
       "      <td>20.5</td>\n",
       "      <td>56.3</td>\n",
       "      <td>15.4</td>\n",
       "      <td>27.3</td>\n",
       "      <td>...</td>\n",
       "      <td>23.9</td>\n",
       "      <td>13.7</td>\n",
       "      <td>13.3</td>\n",
       "      <td>32.8</td>\n",
       "      <td>0.21</td>\n",
       "      <td>13.8</td>\n",
       "      <td>51.8</td>\n",
       "      <td>15.4</td>\n",
       "      <td>15.9</td>\n",
       "      <td>3.1</td>\n",
       "    </tr>\n",
       "    <tr>\n",
       "      <th>5</th>\n",
       "      <td>27DTS02</td>\n",
       "      <td></td>\n",
       "      <td>2022-09-23</td>\n",
       "      <td>3.38</td>\n",
       "      <td>5.39</td>\n",
       "      <td>12.8</td>\n",
       "      <td>40.2</td>\n",
       "      <td>74.6</td>\n",
       "      <td>23.7</td>\n",
       "      <td>31.8</td>\n",
       "      <td>...</td>\n",
       "      <td>13.3</td>\n",
       "      <td>14.0</td>\n",
       "      <td>11.6</td>\n",
       "      <td>37.0</td>\n",
       "      <td>0.30</td>\n",
       "      <td>10.9</td>\n",
       "      <td>64.8</td>\n",
       "      <td>12.4</td>\n",
       "      <td>9.8</td>\n",
       "      <td>2.1</td>\n",
       "    </tr>\n",
       "  </tbody>\n",
       "</table>\n",
       "<p>5 rows × 22 columns</p>\n",
       "</div>"
      ],
      "text/plain": [
       "  study_id         Date   WBC   RBC   HGB   HCT   MCV   MCH  MCHC  ...  RDWCV  \\\n",
       "1  31DTS02   2022-09-23  1.69  5.52  15.6  48.8  88.4  28.3  32.0  ...   15.0   \n",
       "2  30DTS02   2022-09-23  2.85  5.95  14.2  44.5  74.8  23.9  31.9  ...   15.8   \n",
       "3  29DTS02   2022-09-23  1.96  5.81  15.9  48.7  83.8  27.4  32.6  ...   14.6   \n",
       "4  28DTS02   2022-09-23  1.95  3.64   5.6  20.5  56.3  15.4  27.3  ...   23.9   \n",
       "5  27DTS02   2022-09-23  3.38  5.39  12.8  40.2  74.6  23.7  31.8  ...   13.3   \n",
       "\n",
       "    PDW   MPV  PLCR   PCT NEUT% LYMPH%  MONO%   EO%  BASO%  \n",
       "1  19.5  13.3  54.5  0.16   7.1   69.8   14.8   5.9    2.4  \n",
       "2  13.7  11.1  32.8  0.21   4.9   67.4   19.3   4.9    3.5  \n",
       "3  15.5  12.0  40.5  0.24   6.6   68.9   15.3   6.6    2.6  \n",
       "4  13.7  13.3  32.8  0.21  13.8   51.8   15.4  15.9    3.1  \n",
       "5  14.0  11.6  37.0  0.30  10.9   64.8   12.4   9.8    2.1  \n",
       "\n",
       "[5 rows x 22 columns]"
      ]
     },
     "execution_count": 686,
     "metadata": {},
     "output_type": "execute_result"
    }
   ],
   "source": [
    "df1.head()"
   ]
  },
  {
   "cell_type": "markdown",
   "id": "0503b999",
   "metadata": {},
   "source": [
    ">  Finally all Categorical Features also filled up"
   ]
  },
  {
   "cell_type": "code",
   "execution_count": 687,
   "id": "81b4246e",
   "metadata": {},
   "outputs": [],
   "source": [
    "#Let's Change the data type of these features now\n",
    "df1 = df1.astype({'MPV': 'float64','PDW': 'float64','PLCR': 'float64','PCT': 'float64'})"
   ]
  },
  {
   "cell_type": "code",
   "execution_count": 688,
   "id": "8d71bd83",
   "metadata": {},
   "outputs": [
    {
     "name": "stdout",
     "output_type": "stream",
     "text": [
      "<class 'pandas.core.frame.DataFrame'>\n",
      "Int64Index: 9 entries, 1 to 9\n",
      "Data columns (total 22 columns):\n",
      " #   Column    Non-Null Count  Dtype         \n",
      "---  ------    --------------  -----         \n",
      " 0   study_id  9 non-null      object        \n",
      " 1             9 non-null      object        \n",
      " 2   Date      9 non-null      datetime64[ns]\n",
      " 3   WBC       9 non-null      float64       \n",
      " 4   RBC       9 non-null      float64       \n",
      " 5   HGB       9 non-null      float64       \n",
      " 6   HCT       9 non-null      float64       \n",
      " 7   MCV       9 non-null      float64       \n",
      " 8   MCH       9 non-null      float64       \n",
      " 9   MCHC      9 non-null      float64       \n",
      " 10  PLT       9 non-null      float64       \n",
      " 11  RDWSD     9 non-null      float64       \n",
      " 12  RDWCV     9 non-null      float64       \n",
      " 13  PDW       9 non-null      float64       \n",
      " 14  MPV       9 non-null      float64       \n",
      " 15  PLCR      9 non-null      float64       \n",
      " 16  PCT       9 non-null      float64       \n",
      " 17  NEUT%     9 non-null      float64       \n",
      " 18  LYMPH%    9 non-null      float64       \n",
      " 19  MONO%     9 non-null      float64       \n",
      " 20  EO%       9 non-null      float64       \n",
      " 21  BASO%     9 non-null      float64       \n",
      "dtypes: datetime64[ns](1), float64(19), object(2)\n",
      "memory usage: 1.9+ KB\n"
     ]
    }
   ],
   "source": [
    "df1.info()"
   ]
  },
  {
   "cell_type": "markdown",
   "id": "bbbd591e",
   "metadata": {},
   "source": [
    "> Now all features are the same actual data types that is the Float"
   ]
  },
  {
   "cell_type": "markdown",
   "id": "33196f74",
   "metadata": {},
   "source": [
    "### Steps which i followed so far\n",
    "- With the help of some basic operations we check the dtypes of features\n",
    "- We seen that we are unable to change the dtype of some feature due to some missing value but there is no missing values instead of string('')\n",
    "- We change the approach and treat these features as a categorical and replace this string to the Mode.\n",
    "- Finally we have all the filled value with right data type i.e. Float-64"
   ]
  },
  {
   "cell_type": "code",
   "execution_count": 689,
   "id": "4325a0be",
   "metadata": {},
   "outputs": [
    {
     "data": {
      "text/html": [
       "<div>\n",
       "<style scoped>\n",
       "    .dataframe tbody tr th:only-of-type {\n",
       "        vertical-align: middle;\n",
       "    }\n",
       "\n",
       "    .dataframe tbody tr th {\n",
       "        vertical-align: top;\n",
       "    }\n",
       "\n",
       "    .dataframe thead th {\n",
       "        text-align: right;\n",
       "    }\n",
       "</style>\n",
       "<table border=\"1\" class=\"dataframe\">\n",
       "  <thead>\n",
       "    <tr style=\"text-align: right;\">\n",
       "      <th></th>\n",
       "      <th>count</th>\n",
       "      <th>mean</th>\n",
       "      <th>std</th>\n",
       "      <th>min</th>\n",
       "      <th>25%</th>\n",
       "      <th>50%</th>\n",
       "      <th>75%</th>\n",
       "      <th>max</th>\n",
       "    </tr>\n",
       "  </thead>\n",
       "  <tbody>\n",
       "    <tr>\n",
       "      <th>WBC</th>\n",
       "      <td>9.0</td>\n",
       "      <td>2.657778</td>\n",
       "      <td>1.283177</td>\n",
       "      <td>1.69</td>\n",
       "      <td>1.84</td>\n",
       "      <td>1.96</td>\n",
       "      <td>2.85</td>\n",
       "      <td>5.69</td>\n",
       "    </tr>\n",
       "    <tr>\n",
       "      <th>RBC</th>\n",
       "      <td>9.0</td>\n",
       "      <td>5.312222</td>\n",
       "      <td>0.790376</td>\n",
       "      <td>3.64</td>\n",
       "      <td>5.19</td>\n",
       "      <td>5.39</td>\n",
       "      <td>5.81</td>\n",
       "      <td>6.38</td>\n",
       "    </tr>\n",
       "    <tr>\n",
       "      <th>HGB</th>\n",
       "      <td>9.0</td>\n",
       "      <td>13.644444</td>\n",
       "      <td>3.405184</td>\n",
       "      <td>5.60</td>\n",
       "      <td>12.80</td>\n",
       "      <td>14.20</td>\n",
       "      <td>15.90</td>\n",
       "      <td>17.00</td>\n",
       "    </tr>\n",
       "    <tr>\n",
       "      <th>HCT</th>\n",
       "      <td>9.0</td>\n",
       "      <td>42.355556</td>\n",
       "      <td>9.303643</td>\n",
       "      <td>20.50</td>\n",
       "      <td>40.00</td>\n",
       "      <td>44.50</td>\n",
       "      <td>48.70</td>\n",
       "      <td>51.00</td>\n",
       "    </tr>\n",
       "    <tr>\n",
       "      <th>MCV</th>\n",
       "      <td>9.0</td>\n",
       "      <td>78.966667</td>\n",
       "      <td>10.467330</td>\n",
       "      <td>56.30</td>\n",
       "      <td>74.80</td>\n",
       "      <td>79.90</td>\n",
       "      <td>83.80</td>\n",
       "      <td>92.90</td>\n",
       "    </tr>\n",
       "    <tr>\n",
       "      <th>MCH</th>\n",
       "      <td>9.0</td>\n",
       "      <td>25.333333</td>\n",
       "      <td>4.372070</td>\n",
       "      <td>15.40</td>\n",
       "      <td>23.90</td>\n",
       "      <td>26.60</td>\n",
       "      <td>27.40</td>\n",
       "      <td>30.80</td>\n",
       "    </tr>\n",
       "    <tr>\n",
       "      <th>MCHC</th>\n",
       "      <td>9.0</td>\n",
       "      <td>31.888889</td>\n",
       "      <td>1.829238</td>\n",
       "      <td>27.30</td>\n",
       "      <td>31.80</td>\n",
       "      <td>32.00</td>\n",
       "      <td>33.10</td>\n",
       "      <td>33.30</td>\n",
       "    </tr>\n",
       "    <tr>\n",
       "      <th>PLT</th>\n",
       "      <td>9.0</td>\n",
       "      <td>184.222222</td>\n",
       "      <td>83.541573</td>\n",
       "      <td>90.00</td>\n",
       "      <td>136.00</td>\n",
       "      <td>154.00</td>\n",
       "      <td>204.00</td>\n",
       "      <td>364.00</td>\n",
       "    </tr>\n",
       "    <tr>\n",
       "      <th>RDWSD</th>\n",
       "      <td>9.0</td>\n",
       "      <td>41.711111</td>\n",
       "      <td>4.691866</td>\n",
       "      <td>35.30</td>\n",
       "      <td>38.10</td>\n",
       "      <td>41.10</td>\n",
       "      <td>46.20</td>\n",
       "      <td>46.80</td>\n",
       "    </tr>\n",
       "    <tr>\n",
       "      <th>RDWCV</th>\n",
       "      <td>9.0</td>\n",
       "      <td>15.600000</td>\n",
       "      <td>3.370831</td>\n",
       "      <td>12.90</td>\n",
       "      <td>13.90</td>\n",
       "      <td>14.60</td>\n",
       "      <td>15.80</td>\n",
       "      <td>23.90</td>\n",
       "    </tr>\n",
       "    <tr>\n",
       "      <th>PDW</th>\n",
       "      <td>9.0</td>\n",
       "      <td>17.522222</td>\n",
       "      <td>3.479863</td>\n",
       "      <td>13.70</td>\n",
       "      <td>14.00</td>\n",
       "      <td>17.20</td>\n",
       "      <td>20.00</td>\n",
       "      <td>22.10</td>\n",
       "    </tr>\n",
       "    <tr>\n",
       "      <th>MPV</th>\n",
       "      <td>9.0</td>\n",
       "      <td>13.055556</td>\n",
       "      <td>1.495920</td>\n",
       "      <td>11.10</td>\n",
       "      <td>12.00</td>\n",
       "      <td>13.30</td>\n",
       "      <td>13.30</td>\n",
       "      <td>16.20</td>\n",
       "    </tr>\n",
       "    <tr>\n",
       "      <th>PLCR</th>\n",
       "      <td>9.0</td>\n",
       "      <td>47.433333</td>\n",
       "      <td>13.104675</td>\n",
       "      <td>32.80</td>\n",
       "      <td>37.00</td>\n",
       "      <td>48.80</td>\n",
       "      <td>54.50</td>\n",
       "      <td>72.80</td>\n",
       "    </tr>\n",
       "    <tr>\n",
       "      <th>PCT</th>\n",
       "      <td>9.0</td>\n",
       "      <td>0.205556</td>\n",
       "      <td>0.045583</td>\n",
       "      <td>0.15</td>\n",
       "      <td>0.17</td>\n",
       "      <td>0.21</td>\n",
       "      <td>0.21</td>\n",
       "      <td>0.30</td>\n",
       "    </tr>\n",
       "    <tr>\n",
       "      <th>NEUT%</th>\n",
       "      <td>9.0</td>\n",
       "      <td>15.811111</td>\n",
       "      <td>13.611249</td>\n",
       "      <td>4.90</td>\n",
       "      <td>7.10</td>\n",
       "      <td>10.90</td>\n",
       "      <td>13.80</td>\n",
       "      <td>44.10</td>\n",
       "    </tr>\n",
       "    <tr>\n",
       "      <th>LYMPH%</th>\n",
       "      <td>9.0</td>\n",
       "      <td>60.666667</td>\n",
       "      <td>10.716693</td>\n",
       "      <td>42.40</td>\n",
       "      <td>51.80</td>\n",
       "      <td>64.80</td>\n",
       "      <td>68.90</td>\n",
       "      <td>70.40</td>\n",
       "    </tr>\n",
       "    <tr>\n",
       "      <th>MONO%</th>\n",
       "      <td>9.0</td>\n",
       "      <td>14.455556</td>\n",
       "      <td>3.367162</td>\n",
       "      <td>9.20</td>\n",
       "      <td>12.30</td>\n",
       "      <td>14.80</td>\n",
       "      <td>15.40</td>\n",
       "      <td>19.30</td>\n",
       "    </tr>\n",
       "    <tr>\n",
       "      <th>EO%</th>\n",
       "      <td>9.0</td>\n",
       "      <td>6.333333</td>\n",
       "      <td>4.237334</td>\n",
       "      <td>1.60</td>\n",
       "      <td>4.20</td>\n",
       "      <td>4.90</td>\n",
       "      <td>6.60</td>\n",
       "      <td>15.90</td>\n",
       "    </tr>\n",
       "    <tr>\n",
       "      <th>BASO%</th>\n",
       "      <td>9.0</td>\n",
       "      <td>2.733333</td>\n",
       "      <td>0.574456</td>\n",
       "      <td>1.80</td>\n",
       "      <td>2.40</td>\n",
       "      <td>2.70</td>\n",
       "      <td>3.10</td>\n",
       "      <td>3.50</td>\n",
       "    </tr>\n",
       "  </tbody>\n",
       "</table>\n",
       "</div>"
      ],
      "text/plain": [
       "        count        mean        std    min     25%     50%     75%     max\n",
       "WBC       9.0    2.657778   1.283177   1.69    1.84    1.96    2.85    5.69\n",
       "RBC       9.0    5.312222   0.790376   3.64    5.19    5.39    5.81    6.38\n",
       "HGB       9.0   13.644444   3.405184   5.60   12.80   14.20   15.90   17.00\n",
       "HCT       9.0   42.355556   9.303643  20.50   40.00   44.50   48.70   51.00\n",
       "MCV       9.0   78.966667  10.467330  56.30   74.80   79.90   83.80   92.90\n",
       "MCH       9.0   25.333333   4.372070  15.40   23.90   26.60   27.40   30.80\n",
       "MCHC      9.0   31.888889   1.829238  27.30   31.80   32.00   33.10   33.30\n",
       "PLT       9.0  184.222222  83.541573  90.00  136.00  154.00  204.00  364.00\n",
       "RDWSD     9.0   41.711111   4.691866  35.30   38.10   41.10   46.20   46.80\n",
       "RDWCV     9.0   15.600000   3.370831  12.90   13.90   14.60   15.80   23.90\n",
       "PDW       9.0   17.522222   3.479863  13.70   14.00   17.20   20.00   22.10\n",
       "MPV       9.0   13.055556   1.495920  11.10   12.00   13.30   13.30   16.20\n",
       "PLCR      9.0   47.433333  13.104675  32.80   37.00   48.80   54.50   72.80\n",
       "PCT       9.0    0.205556   0.045583   0.15    0.17    0.21    0.21    0.30\n",
       "NEUT%     9.0   15.811111  13.611249   4.90    7.10   10.90   13.80   44.10\n",
       "LYMPH%    9.0   60.666667  10.716693  42.40   51.80   64.80   68.90   70.40\n",
       "MONO%     9.0   14.455556   3.367162   9.20   12.30   14.80   15.40   19.30\n",
       "EO%       9.0    6.333333   4.237334   1.60    4.20    4.90    6.60   15.90\n",
       "BASO%     9.0    2.733333   0.574456   1.80    2.40    2.70    3.10    3.50"
      ]
     },
     "execution_count": 689,
     "metadata": {},
     "output_type": "execute_result"
    }
   ],
   "source": [
    "#Let's check the Outliers\n",
    "df1.describe().T"
   ]
  },
  {
   "cell_type": "markdown",
   "id": "2eaf5229",
   "metadata": {},
   "source": [
    "> One way to check the Outliers are the Describe Function, We checked the Mean and Max Value if there is some abnormal values its mean that Outliers are present in it, Upon our observation it seems that there is very few outlier present in some feature like PLT, PCT and NEUT%. Let's check with the help of Visualization and **BOX PLOT** seems to be the best choice for this."
   ]
  },
  {
   "cell_type": "code",
   "execution_count": 690,
   "id": "2d837f0a",
   "metadata": {},
   "outputs": [],
   "source": [
    "#Let's separate the numeric features\n",
    "df_num = df1.select_dtypes(include = ['float64', 'int64'])"
   ]
  },
  {
   "cell_type": "markdown",
   "id": "10c069c9",
   "metadata": {},
   "source": [
    "> As we find the Outliers means we should be worked on the Numerical Features that's why i separate the Numeric columns and also that the reason to change the dtype to FLOAT. Only object feature i.e study_id has been removed."
   ]
  },
  {
   "cell_type": "code",
   "execution_count": 691,
   "id": "90aadb46",
   "metadata": {},
   "outputs": [
    {
     "data": {
      "text/html": [
       "<div>\n",
       "<style scoped>\n",
       "    .dataframe tbody tr th:only-of-type {\n",
       "        vertical-align: middle;\n",
       "    }\n",
       "\n",
       "    .dataframe tbody tr th {\n",
       "        vertical-align: top;\n",
       "    }\n",
       "\n",
       "    .dataframe thead th {\n",
       "        text-align: right;\n",
       "    }\n",
       "</style>\n",
       "<table border=\"1\" class=\"dataframe\">\n",
       "  <thead>\n",
       "    <tr style=\"text-align: right;\">\n",
       "      <th></th>\n",
       "      <th>WBC</th>\n",
       "      <th>RBC</th>\n",
       "      <th>HGB</th>\n",
       "      <th>HCT</th>\n",
       "      <th>MCV</th>\n",
       "      <th>MCH</th>\n",
       "      <th>MCHC</th>\n",
       "      <th>PLT</th>\n",
       "      <th>RDWSD</th>\n",
       "      <th>RDWCV</th>\n",
       "      <th>PDW</th>\n",
       "      <th>MPV</th>\n",
       "      <th>PLCR</th>\n",
       "      <th>PCT</th>\n",
       "      <th>NEUT%</th>\n",
       "      <th>LYMPH%</th>\n",
       "      <th>MONO%</th>\n",
       "      <th>EO%</th>\n",
       "      <th>BASO%</th>\n",
       "    </tr>\n",
       "  </thead>\n",
       "  <tbody>\n",
       "    <tr>\n",
       "      <th>1</th>\n",
       "      <td>1.69</td>\n",
       "      <td>5.52</td>\n",
       "      <td>15.6</td>\n",
       "      <td>48.8</td>\n",
       "      <td>88.4</td>\n",
       "      <td>28.3</td>\n",
       "      <td>32.0</td>\n",
       "      <td>117.0</td>\n",
       "      <td>45.4</td>\n",
       "      <td>15.0</td>\n",
       "      <td>19.5</td>\n",
       "      <td>13.3</td>\n",
       "      <td>54.5</td>\n",
       "      <td>0.16</td>\n",
       "      <td>7.1</td>\n",
       "      <td>69.8</td>\n",
       "      <td>14.8</td>\n",
       "      <td>5.9</td>\n",
       "      <td>2.4</td>\n",
       "    </tr>\n",
       "    <tr>\n",
       "      <th>2</th>\n",
       "      <td>2.85</td>\n",
       "      <td>5.95</td>\n",
       "      <td>14.2</td>\n",
       "      <td>44.5</td>\n",
       "      <td>74.8</td>\n",
       "      <td>23.9</td>\n",
       "      <td>31.9</td>\n",
       "      <td>189.0</td>\n",
       "      <td>38.1</td>\n",
       "      <td>15.8</td>\n",
       "      <td>13.7</td>\n",
       "      <td>11.1</td>\n",
       "      <td>32.8</td>\n",
       "      <td>0.21</td>\n",
       "      <td>4.9</td>\n",
       "      <td>67.4</td>\n",
       "      <td>19.3</td>\n",
       "      <td>4.9</td>\n",
       "      <td>3.5</td>\n",
       "    </tr>\n",
       "    <tr>\n",
       "      <th>3</th>\n",
       "      <td>1.96</td>\n",
       "      <td>5.81</td>\n",
       "      <td>15.9</td>\n",
       "      <td>48.7</td>\n",
       "      <td>83.8</td>\n",
       "      <td>27.4</td>\n",
       "      <td>32.6</td>\n",
       "      <td>204.0</td>\n",
       "      <td>41.1</td>\n",
       "      <td>14.6</td>\n",
       "      <td>15.5</td>\n",
       "      <td>12.0</td>\n",
       "      <td>40.5</td>\n",
       "      <td>0.24</td>\n",
       "      <td>6.6</td>\n",
       "      <td>68.9</td>\n",
       "      <td>15.3</td>\n",
       "      <td>6.6</td>\n",
       "      <td>2.6</td>\n",
       "    </tr>\n",
       "    <tr>\n",
       "      <th>4</th>\n",
       "      <td>1.95</td>\n",
       "      <td>3.64</td>\n",
       "      <td>5.6</td>\n",
       "      <td>20.5</td>\n",
       "      <td>56.3</td>\n",
       "      <td>15.4</td>\n",
       "      <td>27.3</td>\n",
       "      <td>364.0</td>\n",
       "      <td>46.7</td>\n",
       "      <td>23.9</td>\n",
       "      <td>13.7</td>\n",
       "      <td>13.3</td>\n",
       "      <td>32.8</td>\n",
       "      <td>0.21</td>\n",
       "      <td>13.8</td>\n",
       "      <td>51.8</td>\n",
       "      <td>15.4</td>\n",
       "      <td>15.9</td>\n",
       "      <td>3.1</td>\n",
       "    </tr>\n",
       "    <tr>\n",
       "      <th>5</th>\n",
       "      <td>3.38</td>\n",
       "      <td>5.39</td>\n",
       "      <td>12.8</td>\n",
       "      <td>40.2</td>\n",
       "      <td>74.6</td>\n",
       "      <td>23.7</td>\n",
       "      <td>31.8</td>\n",
       "      <td>256.0</td>\n",
       "      <td>35.3</td>\n",
       "      <td>13.3</td>\n",
       "      <td>14.0</td>\n",
       "      <td>11.6</td>\n",
       "      <td>37.0</td>\n",
       "      <td>0.30</td>\n",
       "      <td>10.9</td>\n",
       "      <td>64.8</td>\n",
       "      <td>12.4</td>\n",
       "      <td>9.8</td>\n",
       "      <td>2.1</td>\n",
       "    </tr>\n",
       "  </tbody>\n",
       "</table>\n",
       "</div>"
      ],
      "text/plain": [
       "    WBC   RBC   HGB   HCT   MCV   MCH  MCHC    PLT  RDWSD  RDWCV   PDW   MPV  \\\n",
       "1  1.69  5.52  15.6  48.8  88.4  28.3  32.0  117.0   45.4   15.0  19.5  13.3   \n",
       "2  2.85  5.95  14.2  44.5  74.8  23.9  31.9  189.0   38.1   15.8  13.7  11.1   \n",
       "3  1.96  5.81  15.9  48.7  83.8  27.4  32.6  204.0   41.1   14.6  15.5  12.0   \n",
       "4  1.95  3.64   5.6  20.5  56.3  15.4  27.3  364.0   46.7   23.9  13.7  13.3   \n",
       "5  3.38  5.39  12.8  40.2  74.6  23.7  31.8  256.0   35.3   13.3  14.0  11.6   \n",
       "\n",
       "   PLCR   PCT  NEUT%  LYMPH%  MONO%   EO%  BASO%  \n",
       "1  54.5  0.16    7.1    69.8   14.8   5.9    2.4  \n",
       "2  32.8  0.21    4.9    67.4   19.3   4.9    3.5  \n",
       "3  40.5  0.24    6.6    68.9   15.3   6.6    2.6  \n",
       "4  32.8  0.21   13.8    51.8   15.4  15.9    3.1  \n",
       "5  37.0  0.30   10.9    64.8   12.4   9.8    2.1  "
      ]
     },
     "execution_count": 691,
     "metadata": {},
     "output_type": "execute_result"
    }
   ],
   "source": [
    "df_num.head()"
   ]
  },
  {
   "cell_type": "code",
   "execution_count": 692,
   "id": "ed467f99",
   "metadata": {},
   "outputs": [
    {
     "data": {
      "application/javascript": "\n        if (window._pyforest_update_imports_cell) { window._pyforest_update_imports_cell('import matplotlib.pyplot as plt\\nimport pandas as pd\\nimport numpy as np'); }\n    ",
      "text/plain": [
       "<IPython.core.display.Javascript object>"
      ]
     },
     "metadata": {},
     "output_type": "display_data"
    },
    {
     "data": {
      "application/javascript": "\n        if (window._pyforest_update_imports_cell) { window._pyforest_update_imports_cell('import matplotlib.pyplot as plt\\nimport pandas as pd\\nimport numpy as np'); }\n    ",
      "text/plain": [
       "<IPython.core.display.Javascript object>"
      ]
     },
     "metadata": {},
     "output_type": "display_data"
    },
    {
     "data": {
      "application/javascript": "\n        if (window._pyforest_update_imports_cell) { window._pyforest_update_imports_cell('import matplotlib.pyplot as plt\\nimport pandas as pd\\nimport numpy as np'); }\n    ",
      "text/plain": [
       "<IPython.core.display.Javascript object>"
      ]
     },
     "metadata": {},
     "output_type": "display_data"
    },
    {
     "data": {
      "application/javascript": "\n        if (window._pyforest_update_imports_cell) { window._pyforest_update_imports_cell('import matplotlib.pyplot as plt\\nimport pandas as pd\\nimport numpy as np'); }\n    ",
      "text/plain": [
       "<IPython.core.display.Javascript object>"
      ]
     },
     "metadata": {},
     "output_type": "display_data"
    },
    {
     "data": {
      "application/javascript": "\n        if (window._pyforest_update_imports_cell) { window._pyforest_update_imports_cell('import matplotlib.pyplot as plt\\nimport pandas as pd\\nimport numpy as np'); }\n    ",
      "text/plain": [
       "<IPython.core.display.Javascript object>"
      ]
     },
     "metadata": {},
     "output_type": "display_data"
    },
    {
     "data": {
      "application/javascript": "\n        if (window._pyforest_update_imports_cell) { window._pyforest_update_imports_cell('import matplotlib.pyplot as plt\\nimport pandas as pd\\nimport numpy as np'); }\n    ",
      "text/plain": [
       "<IPython.core.display.Javascript object>"
      ]
     },
     "metadata": {},
     "output_type": "display_data"
    },
    {
     "data": {
      "application/javascript": "\n        if (window._pyforest_update_imports_cell) { window._pyforest_update_imports_cell('import matplotlib.pyplot as plt\\nimport pandas as pd\\nimport numpy as np'); }\n    ",
      "text/plain": [
       "<IPython.core.display.Javascript object>"
      ]
     },
     "metadata": {},
     "output_type": "display_data"
    },
    {
     "data": {
      "application/javascript": "\n        if (window._pyforest_update_imports_cell) { window._pyforest_update_imports_cell('import matplotlib.pyplot as plt\\nimport pandas as pd\\nimport numpy as np'); }\n    ",
      "text/plain": [
       "<IPython.core.display.Javascript object>"
      ]
     },
     "metadata": {},
     "output_type": "display_data"
    },
    {
     "data": {
      "application/javascript": "\n        if (window._pyforest_update_imports_cell) { window._pyforest_update_imports_cell('import matplotlib.pyplot as plt\\nimport pandas as pd\\nimport numpy as np'); }\n    ",
      "text/plain": [
       "<IPython.core.display.Javascript object>"
      ]
     },
     "metadata": {},
     "output_type": "display_data"
    },
    {
     "data": {
      "application/javascript": "\n        if (window._pyforest_update_imports_cell) { window._pyforest_update_imports_cell('import matplotlib.pyplot as plt\\nimport pandas as pd\\nimport numpy as np'); }\n    ",
      "text/plain": [
       "<IPython.core.display.Javascript object>"
      ]
     },
     "metadata": {},
     "output_type": "display_data"
    },
    {
     "data": {
      "application/javascript": "\n        if (window._pyforest_update_imports_cell) { window._pyforest_update_imports_cell('import matplotlib.pyplot as plt\\nimport pandas as pd\\nimport numpy as np'); }\n    ",
      "text/plain": [
       "<IPython.core.display.Javascript object>"
      ]
     },
     "metadata": {},
     "output_type": "display_data"
    },
    {
     "data": {
      "application/javascript": "\n        if (window._pyforest_update_imports_cell) { window._pyforest_update_imports_cell('import matplotlib.pyplot as plt\\nimport pandas as pd\\nimport numpy as np'); }\n    ",
      "text/plain": [
       "<IPython.core.display.Javascript object>"
      ]
     },
     "metadata": {},
     "output_type": "display_data"
    },
    {
     "data": {
      "application/javascript": "\n        if (window._pyforest_update_imports_cell) { window._pyforest_update_imports_cell('import matplotlib.pyplot as plt\\nimport pandas as pd\\nimport numpy as np'); }\n    ",
      "text/plain": [
       "<IPython.core.display.Javascript object>"
      ]
     },
     "metadata": {},
     "output_type": "display_data"
    },
    {
     "data": {
      "application/javascript": "\n        if (window._pyforest_update_imports_cell) { window._pyforest_update_imports_cell('import matplotlib.pyplot as plt\\nimport pandas as pd\\nimport numpy as np'); }\n    ",
      "text/plain": [
       "<IPython.core.display.Javascript object>"
      ]
     },
     "metadata": {},
     "output_type": "display_data"
    },
    {
     "data": {
      "application/javascript": "\n        if (window._pyforest_update_imports_cell) { window._pyforest_update_imports_cell('import matplotlib.pyplot as plt\\nimport pandas as pd\\nimport numpy as np'); }\n    ",
      "text/plain": [
       "<IPython.core.display.Javascript object>"
      ]
     },
     "metadata": {},
     "output_type": "display_data"
    },
    {
     "data": {
      "application/javascript": "\n        if (window._pyforest_update_imports_cell) { window._pyforest_update_imports_cell('import matplotlib.pyplot as plt\\nimport pandas as pd\\nimport numpy as np'); }\n    ",
      "text/plain": [
       "<IPython.core.display.Javascript object>"
      ]
     },
     "metadata": {},
     "output_type": "display_data"
    },
    {
     "data": {
      "application/javascript": "\n        if (window._pyforest_update_imports_cell) { window._pyforest_update_imports_cell('import matplotlib.pyplot as plt\\nimport pandas as pd\\nimport numpy as np'); }\n    ",
      "text/plain": [
       "<IPython.core.display.Javascript object>"
      ]
     },
     "metadata": {},
     "output_type": "display_data"
    },
    {
     "data": {
      "application/javascript": "\n        if (window._pyforest_update_imports_cell) { window._pyforest_update_imports_cell('import matplotlib.pyplot as plt\\nimport pandas as pd\\nimport numpy as np'); }\n    ",
      "text/plain": [
       "<IPython.core.display.Javascript object>"
      ]
     },
     "metadata": {},
     "output_type": "display_data"
    },
    {
     "data": {
      "application/javascript": "\n        if (window._pyforest_update_imports_cell) { window._pyforest_update_imports_cell('import matplotlib.pyplot as plt\\nimport pandas as pd\\nimport numpy as np'); }\n    ",
      "text/plain": [
       "<IPython.core.display.Javascript object>"
      ]
     },
     "metadata": {},
     "output_type": "display_data"
    },
    {
     "data": {
      "application/javascript": "\n        if (window._pyforest_update_imports_cell) { window._pyforest_update_imports_cell('import matplotlib.pyplot as plt\\nimport pandas as pd\\nimport numpy as np'); }\n    ",
      "text/plain": [
       "<IPython.core.display.Javascript object>"
      ]
     },
     "metadata": {},
     "output_type": "display_data"
    },
    {
     "data": {
      "application/javascript": "\n        if (window._pyforest_update_imports_cell) { window._pyforest_update_imports_cell('import matplotlib.pyplot as plt\\nimport pandas as pd\\nimport numpy as np'); }\n    ",
      "text/plain": [
       "<IPython.core.display.Javascript object>"
      ]
     },
     "metadata": {},
     "output_type": "display_data"
    },
    {
     "data": {
      "image/png": "[encoded data removed]",
      "text/plain": [
       "<Figure size 720x2160 with 19 Axes>"
      ]
     },
     "metadata": {
      "needs_background": "light"
     },
     "output_type": "display_data"
    }
   ],
   "source": [
    "c=1\n",
    "plt.figure(figsize=(10,30))\n",
    "for i in df_num:\n",
    "    plt.subplot(6,4,c)\n",
    "    df1.boxplot(column=i)\n",
    "    c=c+1\n",
    "plt.show()"
   ]
  },
  {
   "cell_type": "markdown",
   "id": "ea10fb65",
   "metadata": {},
   "source": [
    "> So yes our assumption from describe function is right and there is some outliers are present. Let's try to remove the outliers for some feature but remember you must have the domain knowledge to remove these outliers as sometimes abnormal values are not the abnormal but the special case and we might loss cruical info because of this, Currently i removed the outliers for PCT and NEUT%\n",
    "\n",
    "> First we check the distribution of the features then appropriate action has been applied for outliers removal."
   ]
  },
  {
   "cell_type": "code",
   "execution_count": 693,
   "id": "617606f5",
   "metadata": {},
   "outputs": [
    {
     "data": {
      "text/plain": [
       "array([[<AxesSubplot:title={'center':'PCT'}>]], dtype=object)"
      ]
     },
     "execution_count": 693,
     "metadata": {},
     "output_type": "execute_result"
    },
    {
     "data": {
      "image/png": "[encoded data removed]",
      "text/plain": [
       "<Figure size 432x288 with 1 Axes>"
      ]
     },
     "metadata": {
      "needs_background": "light"
     },
     "output_type": "display_data"
    }
   ],
   "source": [
    "df1.hist(column='PCT',bins=20)"
   ]
  },
  {
   "cell_type": "code",
   "execution_count": 694,
   "id": "75efb4d2",
   "metadata": {},
   "outputs": [
    {
     "data": {
      "text/plain": [
       "array([[<AxesSubplot:title={'center':'NEUT%'}>]], dtype=object)"
      ]
     },
     "execution_count": 694,
     "metadata": {},
     "output_type": "execute_result"
    },
    {
     "data": {
      "image/png": "[encoded data removed]",
      "text/plain": [
       "<Figure size 432x288 with 1 Axes>"
      ]
     },
     "metadata": {
      "needs_background": "light"
     },
     "output_type": "display_data"
    }
   ],
   "source": [
    "df1.hist(column='NEUT%',bins=20)"
   ]
  },
  {
   "cell_type": "markdown",
   "id": "c3f9f0d2",
   "metadata": {},
   "source": [
    "> So these two features are not normally distributed so IQR is the best option here, Let's apply"
   ]
  },
  {
   "cell_type": "code",
   "execution_count": 695,
   "id": "bc15fb40",
   "metadata": {},
   "outputs": [
    {
     "name": "stdout",
     "output_type": "stream",
     "text": [
      "For PCT we have Low Whisker value is 0.11000000000000004 while for High Whisker value is 0.26999999999999996\n",
      "For NEUT% we have Low Whisker value is 7.04 while for High Whisker value is 13.860000000000001\n"
     ]
    }
   ],
   "source": [
    "#It's Quite simple just use simple math\n",
    "\n",
    "IQR = df1['PCT'].quantile(0.75) - df1['PCT'].quantile(0.25)\n",
    "LWhisker = df1['PCT'].quantile(0.25) - (1.5*IQR)\n",
    "HWhisker = df1['PCT'].quantile(0.75) + (1.5*IQR)\n",
    "print('For PCT we have Low Whisker value is {} while for High Whisker value is {}'.format(LWhisker, HWhisker))\n",
    "\n",
    "IQR1 = df1['NEUT%'].quantile(0.75) - df1['NEUT%'].quantile(0.25)\n",
    "LWhisker = df1['NEUT%'].quantile(0.25) - (1.5*IQR)\n",
    "HWhisker = df1['NEUT%'].quantile(0.75) + (1.5*IQR)\n",
    "print('For NEUT% we have Low Whisker value is {} while for High Whisker value is {}'.format(LWhisker, HWhisker))"
   ]
  },
  {
   "cell_type": "code",
   "execution_count": 696,
   "id": "ae9ecfe0",
   "metadata": {},
   "outputs": [
    {
     "data": {
      "application/javascript": "\n        if (window._pyforest_update_imports_cell) { window._pyforest_update_imports_cell('import matplotlib.pyplot as plt\\nimport pandas as pd\\nimport numpy as np'); }\n    ",
      "text/plain": [
       "<IPython.core.display.Javascript object>"
      ]
     },
     "metadata": {},
     "output_type": "display_data"
    },
    {
     "data": {
      "application/javascript": "\n        if (window._pyforest_update_imports_cell) { window._pyforest_update_imports_cell('import matplotlib.pyplot as plt\\nimport pandas as pd\\nimport numpy as np'); }\n    ",
      "text/plain": [
       "<IPython.core.display.Javascript object>"
      ]
     },
     "metadata": {},
     "output_type": "display_data"
    },
    {
     "data": {
      "application/javascript": "\n        if (window._pyforest_update_imports_cell) { window._pyforest_update_imports_cell('import matplotlib.pyplot as plt\\nimport pandas as pd\\nimport numpy as np'); }\n    ",
      "text/plain": [
       "<IPython.core.display.Javascript object>"
      ]
     },
     "metadata": {},
     "output_type": "display_data"
    },
    {
     "data": {
      "application/javascript": "\n        if (window._pyforest_update_imports_cell) { window._pyforest_update_imports_cell('import matplotlib.pyplot as plt\\nimport pandas as pd\\nimport numpy as np'); }\n    ",
      "text/plain": [
       "<IPython.core.display.Javascript object>"
      ]
     },
     "metadata": {},
     "output_type": "display_data"
    }
   ],
   "source": [
    "#Capped the Outliers\n",
    "#Higher Whisker\n",
    "df1['PCT'] = np.where(df1['PCT']>0.26, 0.26, df1['PCT'])\n",
    "df1['NEUT%'] = np.where(df1['NEUT%']>13.86, 13.86, df1['NEUT%'])\n",
    "\n",
    "#Low Whisker\n",
    "df1['PCT'] = np.where(df1['PCT']<0.11, 0.11, df1['PCT'])\n",
    "df1['NEUT%'] = np.where(df1['NEUT%']<7.04, 7.04, df1['NEUT%'])"
   ]
  },
  {
   "cell_type": "markdown",
   "id": "70486884",
   "metadata": {},
   "source": [
    "> Outliers are properly capped let's check again with the help of BOX Plot"
   ]
  },
  {
   "cell_type": "code",
   "execution_count": 697,
   "id": "79cba1d2",
   "metadata": {},
   "outputs": [
    {
     "data": {
      "text/plain": [
       "<AxesSubplot:>"
      ]
     },
     "execution_count": 697,
     "metadata": {},
     "output_type": "execute_result"
    },
    {
     "data": {
      "image/png": "[encoded data removed]",
      "text/plain": [
       "<Figure size 432x288 with 1 Axes>"
      ]
     },
     "metadata": {
      "needs_background": "light"
     },
     "output_type": "display_data"
    }
   ],
   "source": [
    "df1.boxplot(column='NEUT%')"
   ]
  },
  {
   "cell_type": "code",
   "execution_count": 698,
   "id": "1668b0bd",
   "metadata": {},
   "outputs": [
    {
     "data": {
      "text/plain": [
       "<AxesSubplot:>"
      ]
     },
     "execution_count": 698,
     "metadata": {},
     "output_type": "execute_result"
    },
    {
     "data": {
      "image/png": "[encoded data removed]",
      "text/plain": [
       "<Figure size 432x288 with 1 Axes>"
      ]
     },
     "metadata": {
      "needs_background": "light"
     },
     "output_type": "display_data"
    }
   ],
   "source": [
    "df1.boxplot(column='PCT')"
   ]
  },
  {
   "cell_type": "markdown",
   "id": "516bc578",
   "metadata": {},
   "source": [
    "> So that's how we tackle the Ouliers but always always remembered that it should not be removed without the proper domain knowledge otherwise you end up with nothing but mishap."
   ]
  },
  {
   "cell_type": "markdown",
   "id": "055636c7",
   "metadata": {},
   "source": [
    "> If we need to use this data set for model training we must check the Multicolinearity in this as it's a numerical dataset so let's check the multicolinearity with the help of Correlation."
   ]
  },
  {
   "cell_type": "code",
   "execution_count": 699,
   "id": "acc39eec",
   "metadata": {},
   "outputs": [
    {
     "data": {
      "text/html": [
       "<div>\n",
       "<style scoped>\n",
       "    .dataframe tbody tr th:only-of-type {\n",
       "        vertical-align: middle;\n",
       "    }\n",
       "\n",
       "    .dataframe tbody tr th {\n",
       "        vertical-align: top;\n",
       "    }\n",
       "\n",
       "    .dataframe thead th {\n",
       "        text-align: right;\n",
       "    }\n",
       "</style>\n",
       "<table border=\"1\" class=\"dataframe\">\n",
       "  <thead>\n",
       "    <tr style=\"text-align: right;\">\n",
       "      <th></th>\n",
       "      <th>WBC</th>\n",
       "      <th>RBC</th>\n",
       "      <th>HGB</th>\n",
       "      <th>HCT</th>\n",
       "      <th>MCV</th>\n",
       "      <th>MCH</th>\n",
       "      <th>MCHC</th>\n",
       "      <th>PLT</th>\n",
       "      <th>RDWSD</th>\n",
       "      <th>RDWCV</th>\n",
       "      <th>PDW</th>\n",
       "      <th>MPV</th>\n",
       "      <th>PLCR</th>\n",
       "      <th>PCT</th>\n",
       "      <th>NEUT%</th>\n",
       "      <th>LYMPH%</th>\n",
       "      <th>MONO%</th>\n",
       "      <th>EO%</th>\n",
       "      <th>BASO%</th>\n",
       "    </tr>\n",
       "  </thead>\n",
       "  <tbody>\n",
       "    <tr>\n",
       "      <th>WBC</th>\n",
       "      <td>1.000000</td>\n",
       "      <td>0.568425</td>\n",
       "      <td>0.291137</td>\n",
       "      <td>0.280497</td>\n",
       "      <td>-0.126333</td>\n",
       "      <td>-0.035947</td>\n",
       "      <td>0.249271</td>\n",
       "      <td>0.000378</td>\n",
       "      <td>-0.665825</td>\n",
       "      <td>-0.214606</td>\n",
       "      <td>0.101322</td>\n",
       "      <td>-0.055149</td>\n",
       "      <td>0.023770</td>\n",
       "      <td>0.395805</td>\n",
       "      <td>0.380487</td>\n",
       "      <td>-0.291640</td>\n",
       "      <td>-0.262312</td>\n",
       "      <td>-0.129899</td>\n",
       "      <td>-0.008366</td>\n",
       "    </tr>\n",
       "    <tr>\n",
       "      <th>RBC</th>\n",
       "      <td>0.568425</td>\n",
       "      <td>1.000000</td>\n",
       "      <td>0.884729</td>\n",
       "      <td>0.897494</td>\n",
       "      <td>0.552144</td>\n",
       "      <td>0.608376</td>\n",
       "      <td>0.753502</td>\n",
       "      <td>-0.500071</td>\n",
       "      <td>-0.573748</td>\n",
       "      <td>-0.694339</td>\n",
       "      <td>0.118281</td>\n",
       "      <td>-0.331981</td>\n",
       "      <td>0.078738</td>\n",
       "      <td>0.213485</td>\n",
       "      <td>-0.443614</td>\n",
       "      <td>0.289893</td>\n",
       "      <td>0.105393</td>\n",
       "      <td>-0.582646</td>\n",
       "      <td>0.007525</td>\n",
       "    </tr>\n",
       "    <tr>\n",
       "      <th>HGB</th>\n",
       "      <td>0.291137</td>\n",
       "      <td>0.884729</td>\n",
       "      <td>1.000000</td>\n",
       "      <td>0.997091</td>\n",
       "      <td>0.870585</td>\n",
       "      <td>0.902898</td>\n",
       "      <td>0.922003</td>\n",
       "      <td>-0.751864</td>\n",
       "      <td>-0.324492</td>\n",
       "      <td>-0.844311</td>\n",
       "      <td>0.329981</td>\n",
       "      <td>-0.092077</td>\n",
       "      <td>0.361429</td>\n",
       "      <td>-0.120078</td>\n",
       "      <td>-0.469406</td>\n",
       "      <td>0.244241</td>\n",
       "      <td>0.100274</td>\n",
       "      <td>-0.751732</td>\n",
       "      <td>0.027265</td>\n",
       "    </tr>\n",
       "    <tr>\n",
       "      <th>HCT</th>\n",
       "      <td>0.280497</td>\n",
       "      <td>0.897494</td>\n",
       "      <td>0.997091</td>\n",
       "      <td>1.000000</td>\n",
       "      <td>0.858977</td>\n",
       "      <td>0.886032</td>\n",
       "      <td>0.896855</td>\n",
       "      <td>-0.731950</td>\n",
       "      <td>-0.310973</td>\n",
       "      <td>-0.821641</td>\n",
       "      <td>0.300571</td>\n",
       "      <td>-0.142786</td>\n",
       "      <td>0.316970</td>\n",
       "      <td>-0.098907</td>\n",
       "      <td>-0.518454</td>\n",
       "      <td>0.302691</td>\n",
       "      <td>0.131845</td>\n",
       "      <td>-0.726063</td>\n",
       "      <td>0.011772</td>\n",
       "    </tr>\n",
       "    <tr>\n",
       "      <th>MCV</th>\n",
       "      <td>-0.126333</td>\n",
       "      <td>0.552144</td>\n",
       "      <td>0.870585</td>\n",
       "      <td>0.858977</td>\n",
       "      <td>1.000000</td>\n",
       "      <td>0.992239</td>\n",
       "      <td>0.870600</td>\n",
       "      <td>-0.850518</td>\n",
       "      <td>0.029991</td>\n",
       "      <td>-0.808130</td>\n",
       "      <td>0.460869</td>\n",
       "      <td>0.122193</td>\n",
       "      <td>0.538361</td>\n",
       "      <td>-0.435230</td>\n",
       "      <td>-0.456157</td>\n",
       "      <td>0.243849</td>\n",
       "      <td>0.084858</td>\n",
       "      <td>-0.760536</td>\n",
       "      <td>-0.028688</td>\n",
       "    </tr>\n",
       "    <tr>\n",
       "      <th>MCH</th>\n",
       "      <td>-0.035947</td>\n",
       "      <td>0.608376</td>\n",
       "      <td>0.902898</td>\n",
       "      <td>0.886032</td>\n",
       "      <td>0.992239</td>\n",
       "      <td>1.000000</td>\n",
       "      <td>0.922834</td>\n",
       "      <td>-0.867512</td>\n",
       "      <td>-0.068574</td>\n",
       "      <td>-0.857506</td>\n",
       "      <td>0.476474</td>\n",
       "      <td>0.138819</td>\n",
       "      <td>0.562052</td>\n",
       "      <td>-0.396639</td>\n",
       "      <td>-0.405510</td>\n",
       "      <td>0.182801</td>\n",
       "      <td>0.039511</td>\n",
       "      <td>-0.806977</td>\n",
       "      <td>-0.013936</td>\n",
       "    </tr>\n",
       "    <tr>\n",
       "      <th>MCHC</th>\n",
       "      <td>0.249271</td>\n",
       "      <td>0.753502</td>\n",
       "      <td>0.922003</td>\n",
       "      <td>0.896855</td>\n",
       "      <td>0.870600</td>\n",
       "      <td>0.922834</td>\n",
       "      <td>1.000000</td>\n",
       "      <td>-0.851897</td>\n",
       "      <td>-0.386087</td>\n",
       "      <td>-0.946513</td>\n",
       "      <td>0.487241</td>\n",
       "      <td>0.132727</td>\n",
       "      <td>0.564697</td>\n",
       "      <td>-0.213045</td>\n",
       "      <td>-0.250284</td>\n",
       "      <td>0.055454</td>\n",
       "      <td>-0.127945</td>\n",
       "      <td>-0.886757</td>\n",
       "      <td>-0.054323</td>\n",
       "    </tr>\n",
       "    <tr>\n",
       "      <th>PLT</th>\n",
       "      <td>0.000378</td>\n",
       "      <td>-0.500071</td>\n",
       "      <td>-0.751864</td>\n",
       "      <td>-0.731950</td>\n",
       "      <td>-0.850518</td>\n",
       "      <td>-0.867512</td>\n",
       "      <td>-0.851897</td>\n",
       "      <td>1.000000</td>\n",
       "      <td>0.031150</td>\n",
       "      <td>0.746614</td>\n",
       "      <td>-0.767098</td>\n",
       "      <td>-0.425608</td>\n",
       "      <td>-0.791247</td>\n",
       "      <td>0.639995</td>\n",
       "      <td>0.174005</td>\n",
       "      <td>-0.010211</td>\n",
       "      <td>0.200405</td>\n",
       "      <td>0.951336</td>\n",
       "      <td>0.105836</td>\n",
       "    </tr>\n",
       "    <tr>\n",
       "      <th>RDWSD</th>\n",
       "      <td>-0.665825</td>\n",
       "      <td>-0.573748</td>\n",
       "      <td>-0.324492</td>\n",
       "      <td>-0.310973</td>\n",
       "      <td>0.029991</td>\n",
       "      <td>-0.068574</td>\n",
       "      <td>-0.386087</td>\n",
       "      <td>0.031150</td>\n",
       "      <td>1.000000</td>\n",
       "      <td>0.527015</td>\n",
       "      <td>0.165506</td>\n",
       "      <td>0.148790</td>\n",
       "      <td>0.010890</td>\n",
       "      <td>-0.487900</td>\n",
       "      <td>-0.079869</td>\n",
       "      <td>0.261810</td>\n",
       "      <td>0.294925</td>\n",
       "      <td>0.177850</td>\n",
       "      <td>-0.014532</td>\n",
       "    </tr>\n",
       "    <tr>\n",
       "      <th>RDWCV</th>\n",
       "      <td>-0.214606</td>\n",
       "      <td>-0.694339</td>\n",
       "      <td>-0.844311</td>\n",
       "      <td>-0.821641</td>\n",
       "      <td>-0.808130</td>\n",
       "      <td>-0.857506</td>\n",
       "      <td>-0.946513</td>\n",
       "      <td>0.746614</td>\n",
       "      <td>0.527015</td>\n",
       "      <td>1.000000</td>\n",
       "      <td>-0.350170</td>\n",
       "      <td>-0.080069</td>\n",
       "      <td>-0.501742</td>\n",
       "      <td>0.102413</td>\n",
       "      <td>0.258428</td>\n",
       "      <td>-0.045434</td>\n",
       "      <td>0.204513</td>\n",
       "      <td>0.757526</td>\n",
       "      <td>0.134916</td>\n",
       "    </tr>\n",
       "    <tr>\n",
       "      <th>PDW</th>\n",
       "      <td>0.101322</td>\n",
       "      <td>0.118281</td>\n",
       "      <td>0.329981</td>\n",
       "      <td>0.300571</td>\n",
       "      <td>0.460869</td>\n",
       "      <td>0.476474</td>\n",
       "      <td>0.487241</td>\n",
       "      <td>-0.767098</td>\n",
       "      <td>0.165506</td>\n",
       "      <td>-0.350170</td>\n",
       "      <td>1.000000</td>\n",
       "      <td>0.767176</td>\n",
       "      <td>0.910651</td>\n",
       "      <td>-0.637109</td>\n",
       "      <td>0.364929</td>\n",
       "      <td>-0.268429</td>\n",
       "      <td>-0.612570</td>\n",
       "      <td>-0.706127</td>\n",
       "      <td>-0.398735</td>\n",
       "    </tr>\n",
       "    <tr>\n",
       "      <th>MPV</th>\n",
       "      <td>-0.055149</td>\n",
       "      <td>-0.331981</td>\n",
       "      <td>-0.092077</td>\n",
       "      <td>-0.142786</td>\n",
       "      <td>0.122193</td>\n",
       "      <td>0.138819</td>\n",
       "      <td>0.132727</td>\n",
       "      <td>-0.425608</td>\n",
       "      <td>0.148790</td>\n",
       "      <td>-0.080069</td>\n",
       "      <td>0.767176</td>\n",
       "      <td>1.000000</td>\n",
       "      <td>0.874098</td>\n",
       "      <td>-0.686673</td>\n",
       "      <td>0.660522</td>\n",
       "      <td>-0.742635</td>\n",
       "      <td>-0.675445</td>\n",
       "      <td>-0.338725</td>\n",
       "      <td>-0.102792</td>\n",
       "    </tr>\n",
       "    <tr>\n",
       "      <th>PLCR</th>\n",
       "      <td>0.023770</td>\n",
       "      <td>0.078738</td>\n",
       "      <td>0.361429</td>\n",
       "      <td>0.316970</td>\n",
       "      <td>0.538361</td>\n",
       "      <td>0.562052</td>\n",
       "      <td>0.564697</td>\n",
       "      <td>-0.791247</td>\n",
       "      <td>0.010890</td>\n",
       "      <td>-0.501742</td>\n",
       "      <td>0.910651</td>\n",
       "      <td>0.874098</td>\n",
       "      <td>1.000000</td>\n",
       "      <td>-0.711347</td>\n",
       "      <td>0.370257</td>\n",
       "      <td>-0.485007</td>\n",
       "      <td>-0.628481</td>\n",
       "      <td>-0.703440</td>\n",
       "      <td>-0.212538</td>\n",
       "    </tr>\n",
       "    <tr>\n",
       "      <th>PCT</th>\n",
       "      <td>0.395805</td>\n",
       "      <td>0.213485</td>\n",
       "      <td>-0.120078</td>\n",
       "      <td>-0.098907</td>\n",
       "      <td>-0.435230</td>\n",
       "      <td>-0.396639</td>\n",
       "      <td>-0.213045</td>\n",
       "      <td>0.639995</td>\n",
       "      <td>-0.487900</td>\n",
       "      <td>0.102413</td>\n",
       "      <td>-0.637109</td>\n",
       "      <td>-0.686673</td>\n",
       "      <td>-0.711347</td>\n",
       "      <td>1.000000</td>\n",
       "      <td>-0.086460</td>\n",
       "      <td>0.282936</td>\n",
       "      <td>0.051718</td>\n",
       "      <td>0.478772</td>\n",
       "      <td>-0.206324</td>\n",
       "    </tr>\n",
       "    <tr>\n",
       "      <th>NEUT%</th>\n",
       "      <td>0.380487</td>\n",
       "      <td>-0.443614</td>\n",
       "      <td>-0.469406</td>\n",
       "      <td>-0.518454</td>\n",
       "      <td>-0.456157</td>\n",
       "      <td>-0.405510</td>\n",
       "      <td>-0.250284</td>\n",
       "      <td>0.174005</td>\n",
       "      <td>-0.079869</td>\n",
       "      <td>0.258428</td>\n",
       "      <td>0.364929</td>\n",
       "      <td>0.660522</td>\n",
       "      <td>0.370257</td>\n",
       "      <td>-0.086460</td>\n",
       "      <td>1.000000</td>\n",
       "      <td>-0.794667</td>\n",
       "      <td>-0.656191</td>\n",
       "      <td>0.130579</td>\n",
       "      <td>-0.120524</td>\n",
       "    </tr>\n",
       "    <tr>\n",
       "      <th>LYMPH%</th>\n",
       "      <td>-0.291640</td>\n",
       "      <td>0.289893</td>\n",
       "      <td>0.244241</td>\n",
       "      <td>0.302691</td>\n",
       "      <td>0.243849</td>\n",
       "      <td>0.182801</td>\n",
       "      <td>0.055454</td>\n",
       "      <td>-0.010211</td>\n",
       "      <td>0.261810</td>\n",
       "      <td>-0.045434</td>\n",
       "      <td>-0.268429</td>\n",
       "      <td>-0.742635</td>\n",
       "      <td>-0.485007</td>\n",
       "      <td>0.282936</td>\n",
       "      <td>-0.794667</td>\n",
       "      <td>1.000000</td>\n",
       "      <td>0.494691</td>\n",
       "      <td>0.005340</td>\n",
       "      <td>-0.305380</td>\n",
       "    </tr>\n",
       "    <tr>\n",
       "      <th>MONO%</th>\n",
       "      <td>-0.262312</td>\n",
       "      <td>0.105393</td>\n",
       "      <td>0.100274</td>\n",
       "      <td>0.131845</td>\n",
       "      <td>0.084858</td>\n",
       "      <td>0.039511</td>\n",
       "      <td>-0.127945</td>\n",
       "      <td>0.200405</td>\n",
       "      <td>0.294925</td>\n",
       "      <td>0.204513</td>\n",
       "      <td>-0.612570</td>\n",
       "      <td>-0.675445</td>\n",
       "      <td>-0.628481</td>\n",
       "      <td>0.051718</td>\n",
       "      <td>-0.656191</td>\n",
       "      <td>0.494691</td>\n",
       "      <td>1.000000</td>\n",
       "      <td>0.193384</td>\n",
       "      <td>0.656788</td>\n",
       "    </tr>\n",
       "    <tr>\n",
       "      <th>EO%</th>\n",
       "      <td>-0.129899</td>\n",
       "      <td>-0.582646</td>\n",
       "      <td>-0.751732</td>\n",
       "      <td>-0.726063</td>\n",
       "      <td>-0.760536</td>\n",
       "      <td>-0.806977</td>\n",
       "      <td>-0.886757</td>\n",
       "      <td>0.951336</td>\n",
       "      <td>0.177850</td>\n",
       "      <td>0.757526</td>\n",
       "      <td>-0.706127</td>\n",
       "      <td>-0.338725</td>\n",
       "      <td>-0.703440</td>\n",
       "      <td>0.478772</td>\n",
       "      <td>0.130579</td>\n",
       "      <td>0.005340</td>\n",
       "      <td>0.193384</td>\n",
       "      <td>1.000000</td>\n",
       "      <td>0.063677</td>\n",
       "    </tr>\n",
       "    <tr>\n",
       "      <th>BASO%</th>\n",
       "      <td>-0.008366</td>\n",
       "      <td>0.007525</td>\n",
       "      <td>0.027265</td>\n",
       "      <td>0.011772</td>\n",
       "      <td>-0.028688</td>\n",
       "      <td>-0.013936</td>\n",
       "      <td>-0.054323</td>\n",
       "      <td>0.105836</td>\n",
       "      <td>-0.014532</td>\n",
       "      <td>0.134916</td>\n",
       "      <td>-0.398735</td>\n",
       "      <td>-0.102792</td>\n",
       "      <td>-0.212538</td>\n",
       "      <td>-0.206324</td>\n",
       "      <td>-0.120524</td>\n",
       "      <td>-0.305380</td>\n",
       "      <td>0.656788</td>\n",
       "      <td>0.063677</td>\n",
       "      <td>1.000000</td>\n",
       "    </tr>\n",
       "  </tbody>\n",
       "</table>\n",
       "</div>"
      ],
      "text/plain": [
       "             WBC       RBC       HGB       HCT       MCV       MCH      MCHC  \\\n",
       "WBC     1.000000  0.568425  0.291137  0.280497 -0.126333 -0.035947  0.249271   \n",
       "RBC     0.568425  1.000000  0.884729  0.897494  0.552144  0.608376  0.753502   \n",
       "HGB     0.291137  0.884729  1.000000  0.997091  0.870585  0.902898  0.922003   \n",
       "HCT     0.280497  0.897494  0.997091  1.000000  0.858977  0.886032  0.896855   \n",
       "MCV    -0.126333  0.552144  0.870585  0.858977  1.000000  0.992239  0.870600   \n",
       "MCH    -0.035947  0.608376  0.902898  0.886032  0.992239  1.000000  0.922834   \n",
       "MCHC    0.249271  0.753502  0.922003  0.896855  0.870600  0.922834  1.000000   \n",
       "PLT     0.000378 -0.500071 -0.751864 -0.731950 -0.850518 -0.867512 -0.851897   \n",
       "RDWSD  -0.665825 -0.573748 -0.324492 -0.310973  0.029991 -0.068574 -0.386087   \n",
       "RDWCV  -0.214606 -0.694339 -0.844311 -0.821641 -0.808130 -0.857506 -0.946513   \n",
       "PDW     0.101322  0.118281  0.329981  0.300571  0.460869  0.476474  0.487241   \n",
       "MPV    -0.055149 -0.331981 -0.092077 -0.142786  0.122193  0.138819  0.132727   \n",
       "PLCR    0.023770  0.078738  0.361429  0.316970  0.538361  0.562052  0.564697   \n",
       "PCT     0.395805  0.213485 -0.120078 -0.098907 -0.435230 -0.396639 -0.213045   \n",
       "NEUT%   0.380487 -0.443614 -0.469406 -0.518454 -0.456157 -0.405510 -0.250284   \n",
       "LYMPH% -0.291640  0.289893  0.244241  0.302691  0.243849  0.182801  0.055454   \n",
       "MONO%  -0.262312  0.105393  0.100274  0.131845  0.084858  0.039511 -0.127945   \n",
       "EO%    -0.129899 -0.582646 -0.751732 -0.726063 -0.760536 -0.806977 -0.886757   \n",
       "BASO%  -0.008366  0.007525  0.027265  0.011772 -0.028688 -0.013936 -0.054323   \n",
       "\n",
       "             PLT     RDWSD     RDWCV       PDW       MPV      PLCR       PCT  \\\n",
       "WBC     0.000378 -0.665825 -0.214606  0.101322 -0.055149  0.023770  0.395805   \n",
       "RBC    -0.500071 -0.573748 -0.694339  0.118281 -0.331981  0.078738  0.213485   \n",
       "HGB    -0.751864 -0.324492 -0.844311  0.329981 -0.092077  0.361429 -0.120078   \n",
       "HCT    -0.731950 -0.310973 -0.821641  0.300571 -0.142786  0.316970 -0.098907   \n",
       "MCV    -0.850518  0.029991 -0.808130  0.460869  0.122193  0.538361 -0.435230   \n",
       "MCH    -0.867512 -0.068574 -0.857506  0.476474  0.138819  0.562052 -0.396639   \n",
       "MCHC   -0.851897 -0.386087 -0.946513  0.487241  0.132727  0.564697 -0.213045   \n",
       "PLT     1.000000  0.031150  0.746614 -0.767098 -0.425608 -0.791247  0.639995   \n",
       "RDWSD   0.031150  1.000000  0.527015  0.165506  0.148790  0.010890 -0.487900   \n",
       "RDWCV   0.746614  0.527015  1.000000 -0.350170 -0.080069 -0.501742  0.102413   \n",
       "PDW    -0.767098  0.165506 -0.350170  1.000000  0.767176  0.910651 -0.637109   \n",
       "MPV    -0.425608  0.148790 -0.080069  0.767176  1.000000  0.874098 -0.686673   \n",
       "PLCR   -0.791247  0.010890 -0.501742  0.910651  0.874098  1.000000 -0.711347   \n",
       "PCT     0.639995 -0.487900  0.102413 -0.637109 -0.686673 -0.711347  1.000000   \n",
       "NEUT%   0.174005 -0.079869  0.258428  0.364929  0.660522  0.370257 -0.086460   \n",
       "LYMPH% -0.010211  0.261810 -0.045434 -0.268429 -0.742635 -0.485007  0.282936   \n",
       "MONO%   0.200405  0.294925  0.204513 -0.612570 -0.675445 -0.628481  0.051718   \n",
       "EO%     0.951336  0.177850  0.757526 -0.706127 -0.338725 -0.703440  0.478772   \n",
       "BASO%   0.105836 -0.014532  0.134916 -0.398735 -0.102792 -0.212538 -0.206324   \n",
       "\n",
       "           NEUT%    LYMPH%     MONO%       EO%     BASO%  \n",
       "WBC     0.380487 -0.291640 -0.262312 -0.129899 -0.008366  \n",
       "RBC    -0.443614  0.289893  0.105393 -0.582646  0.007525  \n",
       "HGB    -0.469406  0.244241  0.100274 -0.751732  0.027265  \n",
       "HCT    -0.518454  0.302691  0.131845 -0.726063  0.011772  \n",
       "MCV    -0.456157  0.243849  0.084858 -0.760536 -0.028688  \n",
       "MCH    -0.405510  0.182801  0.039511 -0.806977 -0.013936  \n",
       "MCHC   -0.250284  0.055454 -0.127945 -0.886757 -0.054323  \n",
       "PLT     0.174005 -0.010211  0.200405  0.951336  0.105836  \n",
       "RDWSD  -0.079869  0.261810  0.294925  0.177850 -0.014532  \n",
       "RDWCV   0.258428 -0.045434  0.204513  0.757526  0.134916  \n",
       "PDW     0.364929 -0.268429 -0.612570 -0.706127 -0.398735  \n",
       "MPV     0.660522 -0.742635 -0.675445 -0.338725 -0.102792  \n",
       "PLCR    0.370257 -0.485007 -0.628481 -0.703440 -0.212538  \n",
       "PCT    -0.086460  0.282936  0.051718  0.478772 -0.206324  \n",
       "NEUT%   1.000000 -0.794667 -0.656191  0.130579 -0.120524  \n",
       "LYMPH% -0.794667  1.000000  0.494691  0.005340 -0.305380  \n",
       "MONO%  -0.656191  0.494691  1.000000  0.193384  0.656788  \n",
       "EO%     0.130579  0.005340  0.193384  1.000000  0.063677  \n",
       "BASO%  -0.120524 -0.305380  0.656788  0.063677  1.000000  "
      ]
     },
     "execution_count": 699,
     "metadata": {},
     "output_type": "execute_result"
    }
   ],
   "source": [
    "#Let's check the correlation\n",
    "df1.corr()"
   ]
  },
  {
   "cell_type": "markdown",
   "id": "859529d6",
   "metadata": {},
   "source": [
    "> Multicolinearity is this if we have the independent features with highly correlated with each other having value more than 90% so we remove the one feature and pick the other one like PDW and PLCR are highly correlated with each other. For better view let's plot this correlation graph with the help of seaborn"
   ]
  },
  {
   "cell_type": "code",
   "execution_count": 708,
   "id": "494d3bf4",
   "metadata": {},
   "outputs": [
    {
     "data": {
      "application/javascript": "\n        if (window._pyforest_update_imports_cell) { window._pyforest_update_imports_cell('import matplotlib.pyplot as plt\\nimport seaborn as sns\\nimport pandas as pd\\nimport numpy as np'); }\n    ",
      "text/plain": [
       "<IPython.core.display.Javascript object>"
      ]
     },
     "metadata": {},
     "output_type": "display_data"
    },
    {
     "data": {
      "application/javascript": "\n        if (window._pyforest_update_imports_cell) { window._pyforest_update_imports_cell('import matplotlib.pyplot as plt\\nimport seaborn as sns\\nimport pandas as pd\\nimport numpy as np'); }\n    ",
      "text/plain": [
       "<IPython.core.display.Javascript object>"
      ]
     },
     "metadata": {},
     "output_type": "display_data"
    },
    {
     "data": {
      "text/plain": [
       "<AxesSubplot:>"
      ]
     },
     "execution_count": 708,
     "metadata": {},
     "output_type": "execute_result"
    },
    {
     "data": {
      "image/png": "[encoded data removed]",
      "text/plain": [
       "<Figure size 1440x720 with 2 Axes>"
      ]
     },
     "metadata": {
      "needs_background": "light"
     },
     "output_type": "display_data"
    }
   ],
   "source": [
    "#Correlation with the help of Seaborn\n",
    "plt.figure(figsize=(20,10))\n",
    "sns.heatmap(df1.corr(), annot=True)"
   ]
  },
  {
   "cell_type": "markdown",
   "id": "5ed470ce",
   "metadata": {},
   "source": [
    "> It's understandable like Lighter Value have **Positive Correlated Values** while the Darker one having **Negative Correlated Values** and both are bad for our model, It's just consume more power more data nothing else and yes that's the technique that how we select the our Feature for numerical dataset."
   ]
  },
  {
   "cell_type": "markdown",
   "id": "ed41df5c",
   "metadata": {},
   "source": [
    "> ***So let's end UP this notebook here, I am trying to check the Stats for this dataset and handled the well known issues which we faced, As Features are not properly labeled also i have no domain knowlegde regarding the Bioinformatics and Genetics Problems so that's why we didn't get the proper results from these numbers but YES data is quite clean and ready for model training if we just drop the highly Correlated Features.***"
   ]
  }
 ],
 "metadata": {
  "kernelspec": {
   "display_name": "Python 3",
   "language": "python",
   "name": "python3"
  },
  "language_info": {
   "codemirror_mode": {
    "name": "ipython",
    "version": 3
   },
   "file_extension": ".py",
   "mimetype": "text/x-python",
   "name": "python",
   "nbconvert_exporter": "python",
   "pygments_lexer": "ipython3",
   "version": "3.8.8"
  },
  "vscode": {
   "interpreter": {
    "hash": "ad2bdc8ecc057115af97d19610ffacc2b4e99fae6737bb82f5d7fb13d2f2c186"
   }
  }
 },
 "nbformat": 4,
 "nbformat_minor": 5
}
